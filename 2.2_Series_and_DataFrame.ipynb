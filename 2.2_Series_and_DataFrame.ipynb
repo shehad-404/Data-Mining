{
 "cells": [
  {
   "cell_type": "markdown",
   "id": "34ce3dcc-42e0-4836-b300-30c7fd2a886b",
   "metadata": {},
   "source": [
    "# Sereis & DataFrame using Numpy & Pandas"
   ]
  },
  {
   "cell_type": "code",
   "execution_count": 1,
   "id": "25a07559-dc2d-4233-83f9-3aed0cdd093f",
   "metadata": {},
   "outputs": [],
   "source": [
    "import numpy as np"
   ]
  },
  {
   "cell_type": "code",
   "execution_count": 2,
   "id": "60047ab3-0fd0-4e45-b57b-eac3ac17be4a",
   "metadata": {},
   "outputs": [],
   "source": [
    "ls = np.arange(1,10)"
   ]
  },
  {
   "cell_type": "code",
   "execution_count": 3,
   "id": "8ba6aec0-0ccf-4f83-8ff7-d9fc460bae40",
   "metadata": {},
   "outputs": [
    {
     "data": {
      "text/plain": [
       "array([1, 2, 3, 4, 5, 6, 7, 8, 9])"
      ]
     },
     "execution_count": 3,
     "metadata": {},
     "output_type": "execute_result"
    }
   ],
   "source": [
    "ls"
   ]
  },
  {
   "cell_type": "code",
   "execution_count": 4,
   "id": "729eb86c-b53d-48eb-af46-17acad425ed3",
   "metadata": {},
   "outputs": [
    {
     "data": {
      "text/plain": [
       "8"
      ]
     },
     "execution_count": 4,
     "metadata": {},
     "output_type": "execute_result"
    }
   ],
   "source": [
    "ls[7]"
   ]
  },
  {
   "cell_type": "code",
   "execution_count": 5,
   "id": "3e5d1cad-ee2a-4e14-a943-816a56f54f2a",
   "metadata": {},
   "outputs": [
    {
     "data": {
      "text/plain": [
       "dtype('int32')"
      ]
     },
     "execution_count": 5,
     "metadata": {},
     "output_type": "execute_result"
    }
   ],
   "source": [
    "ls.dtype"
   ]
  },
  {
   "cell_type": "code",
   "execution_count": 11,
   "id": "102a2c5b-23d6-4944-ba3f-deeaff2ca212",
   "metadata": {},
   "outputs": [
    {
     "name": "stdout",
     "output_type": "stream",
     "text": [
      "ls[0] =  1\n",
      "ls[1] =  2\n",
      "ls[2] =  3\n",
      "ls[3] =  4\n",
      "ls[4] =  5\n",
      "ls[5] =  6\n",
      "ls[6] =  7\n",
      "ls[7] =  8\n",
      "ls[8] =  9\n"
     ]
    }
   ],
   "source": [
    "for item in ls:\n",
    "    print(f\"ls[{item-1}] = \",item)"
   ]
  },
  {
   "cell_type": "code",
   "execution_count": 12,
   "id": "836066bd-3eb7-42be-bc64-bfb21218cb80",
   "metadata": {},
   "outputs": [
    {
     "data": {
      "text/plain": [
       "9"
      ]
     },
     "execution_count": 12,
     "metadata": {},
     "output_type": "execute_result"
    }
   ],
   "source": [
    "len(ls)"
   ]
  },
  {
   "cell_type": "markdown",
   "id": "b9f26cb8-e4ca-4c16-abc3-2ca65669674a",
   "metadata": {},
   "source": [
    "# Pandas"
   ]
  },
  {
   "cell_type": "code",
   "execution_count": 13,
   "id": "014c87fa-80ff-4ea3-b888-23cfa2bcedc3",
   "metadata": {},
   "outputs": [],
   "source": [
    "import pandas as pd"
   ]
  },
  {
   "cell_type": "markdown",
   "id": "9fe6a56c-5c9d-4736-b816-c02a73e8423b",
   "metadata": {},
   "source": [
    "# Series"
   ]
  },
  {
   "cell_type": "code",
   "execution_count": 61,
   "id": "0f243a9f-6514-4424-ba0e-072480210c61",
   "metadata": {},
   "outputs": [],
   "source": [
    "s1  = pd.Series([1,3,4,7])"
   ]
  },
  {
   "cell_type": "code",
   "execution_count": 15,
   "id": "e7260d5f-fcf9-4b88-9933-5a88f6774f94",
   "metadata": {},
   "outputs": [
    {
     "data": {
      "text/plain": [
       "0    1\n",
       "1    3\n",
       "2    4\n",
       "3    7\n",
       "dtype: int64"
      ]
     },
     "execution_count": 15,
     "metadata": {},
     "output_type": "execute_result"
    }
   ],
   "source": [
    "s1"
   ]
  },
  {
   "cell_type": "code",
   "execution_count": 20,
   "id": "0cef0ce3-0357-4c9c-a512-97e17cd0be00",
   "metadata": {},
   "outputs": [],
   "source": [
    "s2 = pd.Series([2,3,4], index=[\"Feb\",\"March\",\"April\"])"
   ]
  },
  {
   "cell_type": "code",
   "execution_count": 21,
   "id": "2edf4de5-06d5-42e5-b552-df88b0d1cab5",
   "metadata": {},
   "outputs": [
    {
     "data": {
      "text/plain": [
       "Feb      2\n",
       "March    3\n",
       "April    4\n",
       "dtype: int64"
      ]
     },
     "execution_count": 21,
     "metadata": {},
     "output_type": "execute_result"
    }
   ],
   "source": [
    "s2"
   ]
  },
  {
   "cell_type": "code",
   "execution_count": 22,
   "id": "8fa5b228-227f-43d8-a42b-c1ae5ad9de62",
   "metadata": {},
   "outputs": [],
   "source": [
    "arr = np.array([1,2,3,4,5])"
   ]
  },
  {
   "cell_type": "code",
   "execution_count": 23,
   "id": "209d6ecd-b20c-408e-a0dd-3523479ece8a",
   "metadata": {},
   "outputs": [
    {
     "data": {
      "text/plain": [
       "array([1, 2, 3, 4, 5])"
      ]
     },
     "execution_count": 23,
     "metadata": {},
     "output_type": "execute_result"
    }
   ],
   "source": [
    "arr"
   ]
  },
  {
   "cell_type": "code",
   "execution_count": 27,
   "id": "b3cf92c3-5ced-40d4-b1af-e559d15a6c09",
   "metadata": {},
   "outputs": [],
   "source": [
    "# Array converts into a Series\n",
    "s3 = pd.Series(arr, index = [5,6,7,8,9])"
   ]
  },
  {
   "cell_type": "code",
   "execution_count": 28,
   "id": "f720f692-4634-40e2-9ffa-0e3ffec0606f",
   "metadata": {},
   "outputs": [
    {
     "data": {
      "text/plain": [
       "5    1\n",
       "6    2\n",
       "7    3\n",
       "8    4\n",
       "9    5\n",
       "dtype: int32"
      ]
     },
     "execution_count": 28,
     "metadata": {},
     "output_type": "execute_result"
    }
   ],
   "source": [
    "s3"
   ]
  },
  {
   "cell_type": "code",
   "execution_count": 42,
   "id": "d399680c-28b8-4f3a-a7d0-44f63263792c",
   "metadata": {},
   "outputs": [],
   "source": [
    "temperature_celsius = pd.Series([25,26,27,28,29,30,31], index = ['Sun','Mon','Tue','Wed','Thu','Fri','Sat'])"
   ]
  },
  {
   "cell_type": "code",
   "execution_count": 43,
   "id": "21ddbc48-b4df-4cdc-b0d6-79eaf7aabe27",
   "metadata": {},
   "outputs": [
    {
     "data": {
      "text/plain": [
       "Sun    25\n",
       "Mon    26\n",
       "Tue    27\n",
       "Wed    28\n",
       "Thu    29\n",
       "Fri    30\n",
       "Sat    31\n",
       "dtype: int64"
      ]
     },
     "execution_count": 43,
     "metadata": {},
     "output_type": "execute_result"
    }
   ],
   "source": [
    "temperature_celsius"
   ]
  },
  {
   "cell_type": "code",
   "execution_count": 44,
   "id": "3948486f-99df-4523-adc1-709d8d0dcb0b",
   "metadata": {},
   "outputs": [
    {
     "data": {
      "text/plain": [
       "Sun    25\n",
       "Mon    26\n",
       "Tue    27\n",
       "dtype: int64"
      ]
     },
     "execution_count": 44,
     "metadata": {},
     "output_type": "execute_result"
    }
   ],
   "source": [
    "temperature_celsius.head(3)"
   ]
  },
  {
   "cell_type": "code",
   "execution_count": 45,
   "id": "cc205151-666c-44fc-bc7e-e94b7cf01623",
   "metadata": {},
   "outputs": [
    {
     "data": {
      "text/plain": [
       "Thu    29\n",
       "Fri    30\n",
       "Sat    31\n",
       "dtype: int64"
      ]
     },
     "execution_count": 45,
     "metadata": {},
     "output_type": "execute_result"
    }
   ],
   "source": [
    "temperature_celsius.tail(3)"
   ]
  },
  {
   "cell_type": "code",
   "execution_count": 46,
   "id": "6a97ee87-d64c-47c6-b234-24a0124b3d36",
   "metadata": {},
   "outputs": [
    {
     "data": {
      "text/plain": [
       "count     7.000000\n",
       "mean     28.000000\n",
       "std       2.160247\n",
       "min      25.000000\n",
       "25%      26.500000\n",
       "50%      28.000000\n",
       "75%      29.500000\n",
       "max      31.000000\n",
       "dtype: float64"
      ]
     },
     "execution_count": 46,
     "metadata": {},
     "output_type": "execute_result"
    }
   ],
   "source": [
    "temperature_celsius.describe()"
   ]
  },
  {
   "cell_type": "code",
   "execution_count": 47,
   "id": "1b1ca67e-072f-4bcf-bf46-cb3c75f30be9",
   "metadata": {},
   "outputs": [
    {
     "data": {
      "text/plain": [
       "Sun    False\n",
       "Mon    False\n",
       "Tue    False\n",
       "Wed    False\n",
       "Thu    False\n",
       "Fri    False\n",
       "Sat    False\n",
       "dtype: bool"
      ]
     },
     "execution_count": 47,
     "metadata": {},
     "output_type": "execute_result"
    }
   ],
   "source": [
    "temperature_celsius.isnull()"
   ]
  },
  {
   "cell_type": "code",
   "execution_count": 48,
   "id": "5cbe362e-e700-4943-8e2d-93fc27fdda01",
   "metadata": {},
   "outputs": [],
   "source": [
    "temperatures_celsius = pd.Series([25, 26, 27, np.nan, 29, 30, 31], index=['Mon', 'Tue', 'Wed', 'Thu', 'Fri', 'Sat', 'Sun'])"
   ]
  },
  {
   "cell_type": "code",
   "execution_count": 49,
   "id": "92ccbb7b-2cb5-4964-9d43-c24cfa98789d",
   "metadata": {},
   "outputs": [
    {
     "data": {
      "text/plain": [
       "Mon    25.0\n",
       "Tue    26.0\n",
       "Wed    27.0\n",
       "Thu     NaN\n",
       "Fri    29.0\n",
       "Sat    30.0\n",
       "Sun    31.0\n",
       "dtype: float64"
      ]
     },
     "execution_count": 49,
     "metadata": {},
     "output_type": "execute_result"
    }
   ],
   "source": [
    "temperatures_celsius"
   ]
  },
  {
   "cell_type": "code",
   "execution_count": 50,
   "id": "bf6f67e2-75f1-4c79-bae9-452c4ac8c057",
   "metadata": {},
   "outputs": [
    {
     "data": {
      "text/plain": [
       "Mon    False\n",
       "Tue    False\n",
       "Wed    False\n",
       "Thu     True\n",
       "Fri    False\n",
       "Sat    False\n",
       "Sun    False\n",
       "dtype: bool"
      ]
     },
     "execution_count": 50,
     "metadata": {},
     "output_type": "execute_result"
    }
   ],
   "source": [
    "temperatures_celsius.isnull()"
   ]
  },
  {
   "cell_type": "code",
   "execution_count": 51,
   "id": "f3fffbde-6774-44ff-808d-a3820d52e98d",
   "metadata": {},
   "outputs": [
    {
     "data": {
      "text/plain": [
       "Mon     True\n",
       "Tue     True\n",
       "Wed     True\n",
       "Thu    False\n",
       "Fri     True\n",
       "Sat     True\n",
       "Sun     True\n",
       "dtype: bool"
      ]
     },
     "execution_count": 51,
     "metadata": {},
     "output_type": "execute_result"
    }
   ],
   "source": [
    "temperatures_celsius.notnull()"
   ]
  },
  {
   "cell_type": "code",
   "execution_count": 52,
   "id": "0572c8f2-e765-415a-ab87-4767703e5d93",
   "metadata": {},
   "outputs": [],
   "source": [
    "s = pd.Series([1,2,3,4,5])"
   ]
  },
  {
   "cell_type": "code",
   "execution_count": 53,
   "id": "b8efe91a-4fea-47ee-9a5f-d2c29c2bbdf1",
   "metadata": {},
   "outputs": [
    {
     "data": {
      "text/plain": [
       "0    1\n",
       "1    2\n",
       "2    3\n",
       "3    4\n",
       "4    5\n",
       "dtype: int64"
      ]
     },
     "execution_count": 53,
     "metadata": {},
     "output_type": "execute_result"
    }
   ],
   "source": [
    "s"
   ]
  },
  {
   "cell_type": "code",
   "execution_count": 54,
   "id": "48b5e7e1-5fc7-43f4-80e0-c8059ded8f69",
   "metadata": {},
   "outputs": [
    {
     "data": {
      "text/plain": [
       "1"
      ]
     },
     "execution_count": 54,
     "metadata": {},
     "output_type": "execute_result"
    }
   ],
   "source": [
    "s[0]"
   ]
  },
  {
   "cell_type": "code",
   "execution_count": 55,
   "id": "36c645a9-4632-4055-9768-6c5608c5afed",
   "metadata": {},
   "outputs": [
    {
     "data": {
      "text/plain": [
       "0    1\n",
       "1    2\n",
       "dtype: int64"
      ]
     },
     "execution_count": 55,
     "metadata": {},
     "output_type": "execute_result"
    }
   ],
   "source": [
    "s[:2]"
   ]
  },
  {
   "cell_type": "code",
   "execution_count": 56,
   "id": "d5b30064-ba1a-4683-a05e-4a0c600168f7",
   "metadata": {},
   "outputs": [
    {
     "data": {
      "text/plain": [
       "3    4\n",
       "4    5\n",
       "dtype: int64"
      ]
     },
     "execution_count": 56,
     "metadata": {},
     "output_type": "execute_result"
    }
   ],
   "source": [
    "s[3:]"
   ]
  },
  {
   "cell_type": "code",
   "execution_count": 58,
   "id": "036502e3-2c95-454f-8099-027e645ac12e",
   "metadata": {},
   "outputs": [
    {
     "data": {
      "text/plain": [
       "0    1\n",
       "1    2\n",
       "2    3\n",
       "3    4\n",
       "dtype: int64"
      ]
     },
     "execution_count": 58,
     "metadata": {},
     "output_type": "execute_result"
    }
   ],
   "source": [
    "s[:-1]"
   ]
  },
  {
   "cell_type": "code",
   "execution_count": 60,
   "id": "85e2d137-8f4e-4505-96b6-a70be70c464d",
   "metadata": {},
   "outputs": [
    {
     "data": {
      "text/plain": [
       "Wed    27.0\n",
       "Thu     NaN\n",
       "Fri    29.0\n",
       "dtype: float64"
      ]
     },
     "execution_count": 60,
     "metadata": {},
     "output_type": "execute_result"
    }
   ],
   "source": [
    "temperatures_celsius[\"Wed\":\"Fri\"]"
   ]
  },
  {
   "cell_type": "markdown",
   "id": "918253d8-bf59-41e2-b261-b8341f9f45df",
   "metadata": {},
   "source": [
    "# Array to DataFrame = 2D Array"
   ]
  },
  {
   "cell_type": "code",
   "execution_count": 4,
   "id": "3f0476aa-1d0d-435b-85a2-945154ef01b0",
   "metadata": {},
   "outputs": [],
   "source": [
    "import numpy as np\n",
    "import pandas as pd"
   ]
  },
  {
   "cell_type": "code",
   "execution_count": 5,
   "id": "7a0b8152-64c3-47cb-83a6-0ff474e15549",
   "metadata": {},
   "outputs": [],
   "source": [
    "a1 = np.array([2,3,4])\n",
    "a2 = np.array([5,6,7])"
   ]
  },
  {
   "cell_type": "code",
   "execution_count": 8,
   "id": "25b2ab2c-828e-4f6c-9b1e-b31111b9bc06",
   "metadata": {},
   "outputs": [],
   "source": [
    "d1 = pd.DataFrame(a1,a2)   # a2 = index"
   ]
  },
  {
   "cell_type": "code",
   "execution_count": 9,
   "id": "2bd6e2cc-aa55-49b1-9c60-b0e48619aafe",
   "metadata": {},
   "outputs": [
    {
     "data": {
      "text/html": [
       "<div>\n",
       "<style scoped>\n",
       "    .dataframe tbody tr th:only-of-type {\n",
       "        vertical-align: middle;\n",
       "    }\n",
       "\n",
       "    .dataframe tbody tr th {\n",
       "        vertical-align: top;\n",
       "    }\n",
       "\n",
       "    .dataframe thead th {\n",
       "        text-align: right;\n",
       "    }\n",
       "</style>\n",
       "<table border=\"1\" class=\"dataframe\">\n",
       "  <thead>\n",
       "    <tr style=\"text-align: right;\">\n",
       "      <th></th>\n",
       "      <th>0</th>\n",
       "    </tr>\n",
       "  </thead>\n",
       "  <tbody>\n",
       "    <tr>\n",
       "      <th>5</th>\n",
       "      <td>2</td>\n",
       "    </tr>\n",
       "    <tr>\n",
       "      <th>6</th>\n",
       "      <td>3</td>\n",
       "    </tr>\n",
       "    <tr>\n",
       "      <th>7</th>\n",
       "      <td>4</td>\n",
       "    </tr>\n",
       "  </tbody>\n",
       "</table>\n",
       "</div>"
      ],
      "text/plain": [
       "   0\n",
       "5  2\n",
       "6  3\n",
       "7  4"
      ]
     },
     "execution_count": 9,
     "metadata": {},
     "output_type": "execute_result"
    }
   ],
   "source": [
    "d1"
   ]
  },
  {
   "cell_type": "code",
   "execution_count": 13,
   "id": "d24eb54d-f339-4488-9990-d3defa02e711",
   "metadata": {},
   "outputs": [],
   "source": [
    "data = {\n",
    "    \"calories\": [420,380,230],\n",
    "    \"duration\": [50,40,45]\n",
    "}"
   ]
  },
  {
   "cell_type": "code",
   "execution_count": 14,
   "id": "fe2a6bf0-fcd2-40bd-ba1b-d55cce1fe8b2",
   "metadata": {},
   "outputs": [
    {
     "data": {
      "text/plain": [
       "{'calories': [420, 380, 230], 'duration': [50, 40, 45]}"
      ]
     },
     "execution_count": 14,
     "metadata": {},
     "output_type": "execute_result"
    }
   ],
   "source": [
    "data"
   ]
  },
  {
   "cell_type": "code",
   "execution_count": 15,
   "id": "aab77f0d-3616-42f1-a672-9eadc98ab313",
   "metadata": {},
   "outputs": [],
   "source": [
    "df = pd.DataFrame(data)"
   ]
  },
  {
   "cell_type": "code",
   "execution_count": 16,
   "id": "aae71c6e-f6db-4416-8048-df59319f3ccd",
   "metadata": {},
   "outputs": [
    {
     "data": {
      "text/html": [
       "<div>\n",
       "<style scoped>\n",
       "    .dataframe tbody tr th:only-of-type {\n",
       "        vertical-align: middle;\n",
       "    }\n",
       "\n",
       "    .dataframe tbody tr th {\n",
       "        vertical-align: top;\n",
       "    }\n",
       "\n",
       "    .dataframe thead th {\n",
       "        text-align: right;\n",
       "    }\n",
       "</style>\n",
       "<table border=\"1\" class=\"dataframe\">\n",
       "  <thead>\n",
       "    <tr style=\"text-align: right;\">\n",
       "      <th></th>\n",
       "      <th>calories</th>\n",
       "      <th>duration</th>\n",
       "    </tr>\n",
       "  </thead>\n",
       "  <tbody>\n",
       "    <tr>\n",
       "      <th>0</th>\n",
       "      <td>420</td>\n",
       "      <td>50</td>\n",
       "    </tr>\n",
       "    <tr>\n",
       "      <th>1</th>\n",
       "      <td>380</td>\n",
       "      <td>40</td>\n",
       "    </tr>\n",
       "    <tr>\n",
       "      <th>2</th>\n",
       "      <td>230</td>\n",
       "      <td>45</td>\n",
       "    </tr>\n",
       "  </tbody>\n",
       "</table>\n",
       "</div>"
      ],
      "text/plain": [
       "   calories  duration\n",
       "0       420        50\n",
       "1       380        40\n",
       "2       230        45"
      ]
     },
     "execution_count": 16,
     "metadata": {},
     "output_type": "execute_result"
    }
   ],
   "source": [
    "df"
   ]
  },
  {
   "cell_type": "code",
   "execution_count": 2,
   "id": "50777623-291f-4cfb-9dd3-c75a20e12a81",
   "metadata": {},
   "outputs": [],
   "source": [
    "import numpy as np\n",
    "import pandas as pd"
   ]
  },
  {
   "cell_type": "code",
   "execution_count": 3,
   "id": "830176f6-24df-439a-b42a-9f20e52f13e4",
   "metadata": {},
   "outputs": [],
   "source": [
    "data = {\n",
    "    'Name': ['John', 'Emma', 'Ryan', 'Sophia', 'Liam'],\n",
    "    'Age': [25, 30, 28, 35, 40],\n",
    "    'Gender': ['M', 'F', 'M', 'F', 'M'],\n",
    "    'Salary': [50000, 60000, 55000, 70000, 65000]\n",
    "}"
   ]
  },
  {
   "cell_type": "code",
   "execution_count": 4,
   "id": "a05b57d6-05ac-4da4-a713-56468d9cf7b6",
   "metadata": {},
   "outputs": [
    {
     "data": {
      "text/plain": [
       "{'Name': ['John', 'Emma', 'Ryan', 'Sophia', 'Liam'],\n",
       " 'Age': [25, 30, 28, 35, 40],\n",
       " 'Gender': ['M', 'F', 'M', 'F', 'M'],\n",
       " 'Salary': [50000, 60000, 55000, 70000, 65000]}"
      ]
     },
     "execution_count": 4,
     "metadata": {},
     "output_type": "execute_result"
    }
   ],
   "source": [
    "data"
   ]
  },
  {
   "cell_type": "code",
   "execution_count": 13,
   "id": "d7cce347-6e34-4763-b930-14ec70a4c417",
   "metadata": {},
   "outputs": [],
   "source": [
    "df = pd.DataFrame(data)"
   ]
  },
  {
   "cell_type": "code",
   "execution_count": 15,
   "id": "287c70cc-45c4-458a-9dc7-2b1f1f3357a9",
   "metadata": {},
   "outputs": [
    {
     "data": {
      "text/html": [
       "<div>\n",
       "<style scoped>\n",
       "    .dataframe tbody tr th:only-of-type {\n",
       "        vertical-align: middle;\n",
       "    }\n",
       "\n",
       "    .dataframe tbody tr th {\n",
       "        vertical-align: top;\n",
       "    }\n",
       "\n",
       "    .dataframe thead th {\n",
       "        text-align: right;\n",
       "    }\n",
       "</style>\n",
       "<table border=\"1\" class=\"dataframe\">\n",
       "  <thead>\n",
       "    <tr style=\"text-align: right;\">\n",
       "      <th></th>\n",
       "      <th>Name</th>\n",
       "      <th>Age</th>\n",
       "      <th>Gender</th>\n",
       "      <th>Salary</th>\n",
       "    </tr>\n",
       "  </thead>\n",
       "  <tbody>\n",
       "    <tr>\n",
       "      <th>0</th>\n",
       "      <td>John</td>\n",
       "      <td>25</td>\n",
       "      <td>M</td>\n",
       "      <td>50000</td>\n",
       "    </tr>\n",
       "    <tr>\n",
       "      <th>1</th>\n",
       "      <td>Emma</td>\n",
       "      <td>30</td>\n",
       "      <td>F</td>\n",
       "      <td>60000</td>\n",
       "    </tr>\n",
       "    <tr>\n",
       "      <th>2</th>\n",
       "      <td>Ryan</td>\n",
       "      <td>28</td>\n",
       "      <td>M</td>\n",
       "      <td>55000</td>\n",
       "    </tr>\n",
       "    <tr>\n",
       "      <th>3</th>\n",
       "      <td>Sophia</td>\n",
       "      <td>35</td>\n",
       "      <td>F</td>\n",
       "      <td>70000</td>\n",
       "    </tr>\n",
       "    <tr>\n",
       "      <th>4</th>\n",
       "      <td>Liam</td>\n",
       "      <td>40</td>\n",
       "      <td>M</td>\n",
       "      <td>65000</td>\n",
       "    </tr>\n",
       "  </tbody>\n",
       "</table>\n",
       "</div>"
      ],
      "text/plain": [
       "     Name  Age Gender  Salary\n",
       "0    John   25      M   50000\n",
       "1    Emma   30      F   60000\n",
       "2    Ryan   28      M   55000\n",
       "3  Sophia   35      F   70000\n",
       "4    Liam   40      M   65000"
      ]
     },
     "execution_count": 15,
     "metadata": {},
     "output_type": "execute_result"
    }
   ],
   "source": [
    "df"
   ]
  },
  {
   "cell_type": "code",
   "execution_count": 16,
   "id": "cf2a3641-6573-49b1-90c7-c1a27281d960",
   "metadata": {},
   "outputs": [
    {
     "data": {
      "text/plain": [
       "(5, 4)"
      ]
     },
     "execution_count": 16,
     "metadata": {},
     "output_type": "execute_result"
    }
   ],
   "source": [
    "df.shape"
   ]
  },
  {
   "cell_type": "code",
   "execution_count": 17,
   "id": "6930afb4-2de7-4f21-b157-320942e13c15",
   "metadata": {},
   "outputs": [
    {
     "data": {
      "text/plain": [
       "Index(['Name', 'Age', 'Gender', 'Salary'], dtype='object')"
      ]
     },
     "execution_count": 17,
     "metadata": {},
     "output_type": "execute_result"
    }
   ],
   "source": [
    "df.columns"
   ]
  },
  {
   "cell_type": "code",
   "execution_count": 18,
   "id": "ea44bfd4-ae94-4a6e-8fc9-3eaf7f005143",
   "metadata": {},
   "outputs": [
    {
     "data": {
      "text/plain": [
       "RangeIndex(start=0, stop=5, step=1)"
      ]
     },
     "execution_count": 18,
     "metadata": {},
     "output_type": "execute_result"
    }
   ],
   "source": [
    "df.index"
   ]
  },
  {
   "cell_type": "code",
   "execution_count": 19,
   "id": "79908ee5-a616-4498-bc89-4ab46c198f82",
   "metadata": {},
   "outputs": [
    {
     "data": {
      "text/plain": [
       "60000.0"
      ]
     },
     "execution_count": 19,
     "metadata": {},
     "output_type": "execute_result"
    }
   ],
   "source": [
    "df['Salary'].mean()   # find Mean Value "
   ]
  },
  {
   "cell_type": "code",
   "execution_count": 20,
   "id": "e113ebce-eb78-4037-b28b-6af354e10115",
   "metadata": {},
   "outputs": [
    {
     "data": {
      "text/plain": [
       "60000.0"
      ]
     },
     "execution_count": 20,
     "metadata": {},
     "output_type": "execute_result"
    }
   ],
   "source": [
    "np.mean(df['Salary'])   # find Mean Value "
   ]
  },
  {
   "cell_type": "code",
   "execution_count": 22,
   "id": "31baf3c8-349b-414e-b3f7-d6850f3b84dd",
   "metadata": {},
   "outputs": [
    {
     "data": {
      "text/html": [
       "<div>\n",
       "<style scoped>\n",
       "    .dataframe tbody tr th:only-of-type {\n",
       "        vertical-align: middle;\n",
       "    }\n",
       "\n",
       "    .dataframe tbody tr th {\n",
       "        vertical-align: top;\n",
       "    }\n",
       "\n",
       "    .dataframe thead th {\n",
       "        text-align: right;\n",
       "    }\n",
       "</style>\n",
       "<table border=\"1\" class=\"dataframe\">\n",
       "  <thead>\n",
       "    <tr style=\"text-align: right;\">\n",
       "      <th></th>\n",
       "      <th>Age</th>\n",
       "      <th>Salary</th>\n",
       "    </tr>\n",
       "  </thead>\n",
       "  <tbody>\n",
       "    <tr>\n",
       "      <th>count</th>\n",
       "      <td>5.00000</td>\n",
       "      <td>5.00000</td>\n",
       "    </tr>\n",
       "    <tr>\n",
       "      <th>mean</th>\n",
       "      <td>31.60000</td>\n",
       "      <td>60000.00000</td>\n",
       "    </tr>\n",
       "    <tr>\n",
       "      <th>std</th>\n",
       "      <td>5.94138</td>\n",
       "      <td>7905.69415</td>\n",
       "    </tr>\n",
       "    <tr>\n",
       "      <th>min</th>\n",
       "      <td>25.00000</td>\n",
       "      <td>50000.00000</td>\n",
       "    </tr>\n",
       "    <tr>\n",
       "      <th>25%</th>\n",
       "      <td>28.00000</td>\n",
       "      <td>55000.00000</td>\n",
       "    </tr>\n",
       "    <tr>\n",
       "      <th>50%</th>\n",
       "      <td>30.00000</td>\n",
       "      <td>60000.00000</td>\n",
       "    </tr>\n",
       "    <tr>\n",
       "      <th>75%</th>\n",
       "      <td>35.00000</td>\n",
       "      <td>65000.00000</td>\n",
       "    </tr>\n",
       "    <tr>\n",
       "      <th>max</th>\n",
       "      <td>40.00000</td>\n",
       "      <td>70000.00000</td>\n",
       "    </tr>\n",
       "  </tbody>\n",
       "</table>\n",
       "</div>"
      ],
      "text/plain": [
       "            Age       Salary\n",
       "count   5.00000      5.00000\n",
       "mean   31.60000  60000.00000\n",
       "std     5.94138   7905.69415\n",
       "min    25.00000  50000.00000\n",
       "25%    28.00000  55000.00000\n",
       "50%    30.00000  60000.00000\n",
       "75%    35.00000  65000.00000\n",
       "max    40.00000  70000.00000"
      ]
     },
     "execution_count": 22,
     "metadata": {},
     "output_type": "execute_result"
    }
   ],
   "source": [
    "df.describe()"
   ]
  },
  {
   "cell_type": "code",
   "execution_count": 23,
   "id": "2f62dddb-a089-498d-86fd-56a6a2506470",
   "metadata": {},
   "outputs": [
    {
     "data": {
      "text/plain": [
       "0    25\n",
       "1    30\n",
       "2    28\n",
       "3    35\n",
       "4    40\n",
       "Name: Age, dtype: int64"
      ]
     },
     "execution_count": 23,
     "metadata": {},
     "output_type": "execute_result"
    }
   ],
   "source": [
    "df['Age']"
   ]
  },
  {
   "cell_type": "code",
   "execution_count": 24,
   "id": "76900560-ec91-4b1a-beab-bcc1289ba39d",
   "metadata": {},
   "outputs": [],
   "source": [
    "age = df['Age']"
   ]
  },
  {
   "cell_type": "code",
   "execution_count": 25,
   "id": "1f4b4a07-daec-4623-bc5c-087c4636b106",
   "metadata": {},
   "outputs": [
    {
     "data": {
      "text/plain": [
       "0    25\n",
       "1    30\n",
       "2    28\n",
       "3    35\n",
       "4    40\n",
       "Name: Age, dtype: int64"
      ]
     },
     "execution_count": 25,
     "metadata": {},
     "output_type": "execute_result"
    }
   ],
   "source": [
    "age"
   ]
  },
  {
   "cell_type": "code",
   "execution_count": 30,
   "id": "aedbf543-0aaa-403c-9705-848df3ba06eb",
   "metadata": {},
   "outputs": [],
   "source": [
    "df1 = df[['Age', 'Salary']]"
   ]
  },
  {
   "cell_type": "code",
   "execution_count": 31,
   "id": "05019e93-9b3f-48f3-8681-8069297def4f",
   "metadata": {},
   "outputs": [
    {
     "data": {
      "text/html": [
       "<div>\n",
       "<style scoped>\n",
       "    .dataframe tbody tr th:only-of-type {\n",
       "        vertical-align: middle;\n",
       "    }\n",
       "\n",
       "    .dataframe tbody tr th {\n",
       "        vertical-align: top;\n",
       "    }\n",
       "\n",
       "    .dataframe thead th {\n",
       "        text-align: right;\n",
       "    }\n",
       "</style>\n",
       "<table border=\"1\" class=\"dataframe\">\n",
       "  <thead>\n",
       "    <tr style=\"text-align: right;\">\n",
       "      <th></th>\n",
       "      <th>Age</th>\n",
       "      <th>Salary</th>\n",
       "    </tr>\n",
       "  </thead>\n",
       "  <tbody>\n",
       "    <tr>\n",
       "      <th>0</th>\n",
       "      <td>25</td>\n",
       "      <td>50000</td>\n",
       "    </tr>\n",
       "    <tr>\n",
       "      <th>1</th>\n",
       "      <td>30</td>\n",
       "      <td>60000</td>\n",
       "    </tr>\n",
       "    <tr>\n",
       "      <th>2</th>\n",
       "      <td>28</td>\n",
       "      <td>55000</td>\n",
       "    </tr>\n",
       "    <tr>\n",
       "      <th>3</th>\n",
       "      <td>35</td>\n",
       "      <td>70000</td>\n",
       "    </tr>\n",
       "    <tr>\n",
       "      <th>4</th>\n",
       "      <td>40</td>\n",
       "      <td>65000</td>\n",
       "    </tr>\n",
       "  </tbody>\n",
       "</table>\n",
       "</div>"
      ],
      "text/plain": [
       "   Age  Salary\n",
       "0   25   50000\n",
       "1   30   60000\n",
       "2   28   55000\n",
       "3   35   70000\n",
       "4   40   65000"
      ]
     },
     "execution_count": 31,
     "metadata": {},
     "output_type": "execute_result"
    }
   ],
   "source": [
    "df1"
   ]
  },
  {
   "cell_type": "code",
   "execution_count": 35,
   "id": "8df127e3-4c98-4dba-be21-d85ec245f241",
   "metadata": {},
   "outputs": [],
   "source": [
    "selected_columns_loc = df.loc[:, ['Name', 'Age']]      # loc[:,] = Shows all rows & Selected Columns(Name & Age) "
   ]
  },
  {
   "cell_type": "code",
   "execution_count": 36,
   "id": "c482fac3-5c30-4e9d-a2eb-1f4c6f37e0ad",
   "metadata": {},
   "outputs": [
    {
     "data": {
      "text/html": [
       "<div>\n",
       "<style scoped>\n",
       "    .dataframe tbody tr th:only-of-type {\n",
       "        vertical-align: middle;\n",
       "    }\n",
       "\n",
       "    .dataframe tbody tr th {\n",
       "        vertical-align: top;\n",
       "    }\n",
       "\n",
       "    .dataframe thead th {\n",
       "        text-align: right;\n",
       "    }\n",
       "</style>\n",
       "<table border=\"1\" class=\"dataframe\">\n",
       "  <thead>\n",
       "    <tr style=\"text-align: right;\">\n",
       "      <th></th>\n",
       "      <th>Name</th>\n",
       "      <th>Age</th>\n",
       "    </tr>\n",
       "  </thead>\n",
       "  <tbody>\n",
       "    <tr>\n",
       "      <th>0</th>\n",
       "      <td>John</td>\n",
       "      <td>25</td>\n",
       "    </tr>\n",
       "    <tr>\n",
       "      <th>1</th>\n",
       "      <td>Emma</td>\n",
       "      <td>30</td>\n",
       "    </tr>\n",
       "    <tr>\n",
       "      <th>2</th>\n",
       "      <td>Ryan</td>\n",
       "      <td>28</td>\n",
       "    </tr>\n",
       "    <tr>\n",
       "      <th>3</th>\n",
       "      <td>Sophia</td>\n",
       "      <td>35</td>\n",
       "    </tr>\n",
       "    <tr>\n",
       "      <th>4</th>\n",
       "      <td>Liam</td>\n",
       "      <td>40</td>\n",
       "    </tr>\n",
       "  </tbody>\n",
       "</table>\n",
       "</div>"
      ],
      "text/plain": [
       "     Name  Age\n",
       "0    John   25\n",
       "1    Emma   30\n",
       "2    Ryan   28\n",
       "3  Sophia   35\n",
       "4    Liam   40"
      ]
     },
     "execution_count": 36,
     "metadata": {},
     "output_type": "execute_result"
    }
   ],
   "source": [
    "selected_columns_loc"
   ]
  },
  {
   "cell_type": "code",
   "execution_count": 38,
   "id": "c0bddfe1-4b7e-48ff-8ce3-fe804c4c17fa",
   "metadata": {},
   "outputs": [],
   "source": [
    "selected_columns = df.loc[:, ['Name', 'Salary']]      # loc[:,] = Shows all rows & Selected Columns(Name & Salary) "
   ]
  },
  {
   "cell_type": "code",
   "execution_count": 39,
   "id": "c7c1dad9-ab24-416f-9584-efd7be0bb9a1",
   "metadata": {},
   "outputs": [
    {
     "data": {
      "text/html": [
       "<div>\n",
       "<style scoped>\n",
       "    .dataframe tbody tr th:only-of-type {\n",
       "        vertical-align: middle;\n",
       "    }\n",
       "\n",
       "    .dataframe tbody tr th {\n",
       "        vertical-align: top;\n",
       "    }\n",
       "\n",
       "    .dataframe thead th {\n",
       "        text-align: right;\n",
       "    }\n",
       "</style>\n",
       "<table border=\"1\" class=\"dataframe\">\n",
       "  <thead>\n",
       "    <tr style=\"text-align: right;\">\n",
       "      <th></th>\n",
       "      <th>Name</th>\n",
       "      <th>Salary</th>\n",
       "    </tr>\n",
       "  </thead>\n",
       "  <tbody>\n",
       "    <tr>\n",
       "      <th>0</th>\n",
       "      <td>John</td>\n",
       "      <td>50000</td>\n",
       "    </tr>\n",
       "    <tr>\n",
       "      <th>1</th>\n",
       "      <td>Emma</td>\n",
       "      <td>60000</td>\n",
       "    </tr>\n",
       "    <tr>\n",
       "      <th>2</th>\n",
       "      <td>Ryan</td>\n",
       "      <td>55000</td>\n",
       "    </tr>\n",
       "    <tr>\n",
       "      <th>3</th>\n",
       "      <td>Sophia</td>\n",
       "      <td>70000</td>\n",
       "    </tr>\n",
       "    <tr>\n",
       "      <th>4</th>\n",
       "      <td>Liam</td>\n",
       "      <td>65000</td>\n",
       "    </tr>\n",
       "  </tbody>\n",
       "</table>\n",
       "</div>"
      ],
      "text/plain": [
       "     Name  Salary\n",
       "0    John   50000\n",
       "1    Emma   60000\n",
       "2    Ryan   55000\n",
       "3  Sophia   70000\n",
       "4    Liam   65000"
      ]
     },
     "execution_count": 39,
     "metadata": {},
     "output_type": "execute_result"
    }
   ],
   "source": [
    "selected_columns"
   ]
  },
  {
   "cell_type": "code",
   "execution_count": 42,
   "id": "38ceff13-f5a5-4530-844e-f39989378962",
   "metadata": {},
   "outputs": [],
   "source": [
    "selected_columns = df.loc[2:4, ['Name', 'Age']]       # loc[2:4,] = Shows rows only from 2 to 4 & Selected Columns(Name & Age) "
   ]
  },
  {
   "cell_type": "code",
   "execution_count": 43,
   "id": "ac7985e3-6efd-4ae9-a086-f544646f1711",
   "metadata": {},
   "outputs": [
    {
     "data": {
      "text/html": [
       "<div>\n",
       "<style scoped>\n",
       "    .dataframe tbody tr th:only-of-type {\n",
       "        vertical-align: middle;\n",
       "    }\n",
       "\n",
       "    .dataframe tbody tr th {\n",
       "        vertical-align: top;\n",
       "    }\n",
       "\n",
       "    .dataframe thead th {\n",
       "        text-align: right;\n",
       "    }\n",
       "</style>\n",
       "<table border=\"1\" class=\"dataframe\">\n",
       "  <thead>\n",
       "    <tr style=\"text-align: right;\">\n",
       "      <th></th>\n",
       "      <th>Name</th>\n",
       "      <th>Age</th>\n",
       "    </tr>\n",
       "  </thead>\n",
       "  <tbody>\n",
       "    <tr>\n",
       "      <th>2</th>\n",
       "      <td>Ryan</td>\n",
       "      <td>28</td>\n",
       "    </tr>\n",
       "    <tr>\n",
       "      <th>3</th>\n",
       "      <td>Sophia</td>\n",
       "      <td>35</td>\n",
       "    </tr>\n",
       "    <tr>\n",
       "      <th>4</th>\n",
       "      <td>Liam</td>\n",
       "      <td>40</td>\n",
       "    </tr>\n",
       "  </tbody>\n",
       "</table>\n",
       "</div>"
      ],
      "text/plain": [
       "     Name  Age\n",
       "2    Ryan   28\n",
       "3  Sophia   35\n",
       "4    Liam   40"
      ]
     },
     "execution_count": 43,
     "metadata": {},
     "output_type": "execute_result"
    }
   ],
   "source": [
    "selected_columns"
   ]
  },
  {
   "cell_type": "code",
   "execution_count": 46,
   "id": "bee2f892-48c5-4d0b-ae64-6e3ba28a3226",
   "metadata": {},
   "outputs": [],
   "source": [
    "selected_columns = df.loc[2:4, ]        # loc[:,] = Shows only rows from 2 to 4 & Shows All Columns "
   ]
  },
  {
   "cell_type": "code",
   "execution_count": 47,
   "id": "7429e590-2d0a-4d3a-993d-53a477f3294c",
   "metadata": {},
   "outputs": [
    {
     "data": {
      "text/html": [
       "<div>\n",
       "<style scoped>\n",
       "    .dataframe tbody tr th:only-of-type {\n",
       "        vertical-align: middle;\n",
       "    }\n",
       "\n",
       "    .dataframe tbody tr th {\n",
       "        vertical-align: top;\n",
       "    }\n",
       "\n",
       "    .dataframe thead th {\n",
       "        text-align: right;\n",
       "    }\n",
       "</style>\n",
       "<table border=\"1\" class=\"dataframe\">\n",
       "  <thead>\n",
       "    <tr style=\"text-align: right;\">\n",
       "      <th></th>\n",
       "      <th>Name</th>\n",
       "      <th>Age</th>\n",
       "      <th>Gender</th>\n",
       "      <th>Salary</th>\n",
       "    </tr>\n",
       "  </thead>\n",
       "  <tbody>\n",
       "    <tr>\n",
       "      <th>2</th>\n",
       "      <td>Ryan</td>\n",
       "      <td>28</td>\n",
       "      <td>M</td>\n",
       "      <td>55000</td>\n",
       "    </tr>\n",
       "    <tr>\n",
       "      <th>3</th>\n",
       "      <td>Sophia</td>\n",
       "      <td>35</td>\n",
       "      <td>F</td>\n",
       "      <td>70000</td>\n",
       "    </tr>\n",
       "    <tr>\n",
       "      <th>4</th>\n",
       "      <td>Liam</td>\n",
       "      <td>40</td>\n",
       "      <td>M</td>\n",
       "      <td>65000</td>\n",
       "    </tr>\n",
       "  </tbody>\n",
       "</table>\n",
       "</div>"
      ],
      "text/plain": [
       "     Name  Age Gender  Salary\n",
       "2    Ryan   28      M   55000\n",
       "3  Sophia   35      F   70000\n",
       "4    Liam   40      M   65000"
      ]
     },
     "execution_count": 47,
     "metadata": {},
     "output_type": "execute_result"
    }
   ],
   "source": [
    "selected_columns"
   ]
  },
  {
   "cell_type": "code",
   "execution_count": 48,
   "id": "f4f4fa7b-5a6e-4e39-9281-9be8b5d9ba8f",
   "metadata": {},
   "outputs": [],
   "source": [
    "older_than_30 = df[df['Age'] > 30]"
   ]
  },
  {
   "cell_type": "code",
   "execution_count": 49,
   "id": "949b6eea-5bef-46c7-b9fb-649dd97312bc",
   "metadata": {},
   "outputs": [
    {
     "data": {
      "text/html": [
       "<div>\n",
       "<style scoped>\n",
       "    .dataframe tbody tr th:only-of-type {\n",
       "        vertical-align: middle;\n",
       "    }\n",
       "\n",
       "    .dataframe tbody tr th {\n",
       "        vertical-align: top;\n",
       "    }\n",
       "\n",
       "    .dataframe thead th {\n",
       "        text-align: right;\n",
       "    }\n",
       "</style>\n",
       "<table border=\"1\" class=\"dataframe\">\n",
       "  <thead>\n",
       "    <tr style=\"text-align: right;\">\n",
       "      <th></th>\n",
       "      <th>Name</th>\n",
       "      <th>Age</th>\n",
       "      <th>Gender</th>\n",
       "      <th>Salary</th>\n",
       "    </tr>\n",
       "  </thead>\n",
       "  <tbody>\n",
       "    <tr>\n",
       "      <th>3</th>\n",
       "      <td>Sophia</td>\n",
       "      <td>35</td>\n",
       "      <td>F</td>\n",
       "      <td>70000</td>\n",
       "    </tr>\n",
       "    <tr>\n",
       "      <th>4</th>\n",
       "      <td>Liam</td>\n",
       "      <td>40</td>\n",
       "      <td>M</td>\n",
       "      <td>65000</td>\n",
       "    </tr>\n",
       "  </tbody>\n",
       "</table>\n",
       "</div>"
      ],
      "text/plain": [
       "     Name  Age Gender  Salary\n",
       "3  Sophia   35      F   70000\n",
       "4    Liam   40      M   65000"
      ]
     },
     "execution_count": 49,
     "metadata": {},
     "output_type": "execute_result"
    }
   ],
   "source": [
    "older_than_30"
   ]
  },
  {
   "cell_type": "code",
   "execution_count": 57,
   "id": "f73bd206-cbb9-45d5-b803-cb63f956af9f",
   "metadata": {},
   "outputs": [],
   "source": [
    "good_salary = df[df['Salary'] >= 60000]"
   ]
  },
  {
   "cell_type": "code",
   "execution_count": 58,
   "id": "1dcc8658-59eb-4f0e-8c76-ee3e548dc7bb",
   "metadata": {},
   "outputs": [
    {
     "data": {
      "text/html": [
       "<div>\n",
       "<style scoped>\n",
       "    .dataframe tbody tr th:only-of-type {\n",
       "        vertical-align: middle;\n",
       "    }\n",
       "\n",
       "    .dataframe tbody tr th {\n",
       "        vertical-align: top;\n",
       "    }\n",
       "\n",
       "    .dataframe thead th {\n",
       "        text-align: right;\n",
       "    }\n",
       "</style>\n",
       "<table border=\"1\" class=\"dataframe\">\n",
       "  <thead>\n",
       "    <tr style=\"text-align: right;\">\n",
       "      <th></th>\n",
       "      <th>Name</th>\n",
       "      <th>Age</th>\n",
       "      <th>Gender</th>\n",
       "      <th>Salary</th>\n",
       "    </tr>\n",
       "  </thead>\n",
       "  <tbody>\n",
       "    <tr>\n",
       "      <th>1</th>\n",
       "      <td>Emma</td>\n",
       "      <td>30</td>\n",
       "      <td>F</td>\n",
       "      <td>60000</td>\n",
       "    </tr>\n",
       "    <tr>\n",
       "      <th>3</th>\n",
       "      <td>Sophia</td>\n",
       "      <td>35</td>\n",
       "      <td>F</td>\n",
       "      <td>70000</td>\n",
       "    </tr>\n",
       "    <tr>\n",
       "      <th>4</th>\n",
       "      <td>Liam</td>\n",
       "      <td>40</td>\n",
       "      <td>M</td>\n",
       "      <td>65000</td>\n",
       "    </tr>\n",
       "  </tbody>\n",
       "</table>\n",
       "</div>"
      ],
      "text/plain": [
       "     Name  Age Gender  Salary\n",
       "1    Emma   30      F   60000\n",
       "3  Sophia   35      F   70000\n",
       "4    Liam   40      M   65000"
      ]
     },
     "execution_count": 58,
     "metadata": {},
     "output_type": "execute_result"
    }
   ],
   "source": [
    "good_salary"
   ]
  },
  {
   "cell_type": "code",
   "execution_count": 61,
   "id": "2e0a2b29-c7c4-4fab-868e-a804df062b2b",
   "metadata": {},
   "outputs": [],
   "source": [
    "good_salary = df.loc[:, ['Name']]       # Shows only \"Name\" Column "
   ]
  },
  {
   "cell_type": "code",
   "execution_count": 62,
   "id": "d398590a-05b4-4dcd-999e-a1b86e13a1ba",
   "metadata": {},
   "outputs": [
    {
     "data": {
      "text/html": [
       "<div>\n",
       "<style scoped>\n",
       "    .dataframe tbody tr th:only-of-type {\n",
       "        vertical-align: middle;\n",
       "    }\n",
       "\n",
       "    .dataframe tbody tr th {\n",
       "        vertical-align: top;\n",
       "    }\n",
       "\n",
       "    .dataframe thead th {\n",
       "        text-align: right;\n",
       "    }\n",
       "</style>\n",
       "<table border=\"1\" class=\"dataframe\">\n",
       "  <thead>\n",
       "    <tr style=\"text-align: right;\">\n",
       "      <th></th>\n",
       "      <th>Name</th>\n",
       "    </tr>\n",
       "  </thead>\n",
       "  <tbody>\n",
       "    <tr>\n",
       "      <th>0</th>\n",
       "      <td>John</td>\n",
       "    </tr>\n",
       "    <tr>\n",
       "      <th>1</th>\n",
       "      <td>Emma</td>\n",
       "    </tr>\n",
       "    <tr>\n",
       "      <th>2</th>\n",
       "      <td>Ryan</td>\n",
       "    </tr>\n",
       "    <tr>\n",
       "      <th>3</th>\n",
       "      <td>Sophia</td>\n",
       "    </tr>\n",
       "    <tr>\n",
       "      <th>4</th>\n",
       "      <td>Liam</td>\n",
       "    </tr>\n",
       "  </tbody>\n",
       "</table>\n",
       "</div>"
      ],
      "text/plain": [
       "     Name\n",
       "0    John\n",
       "1    Emma\n",
       "2    Ryan\n",
       "3  Sophia\n",
       "4    Liam"
      ]
     },
     "execution_count": 62,
     "metadata": {},
     "output_type": "execute_result"
    }
   ],
   "source": [
    "good_salary"
   ]
  },
  {
   "cell_type": "code",
   "execution_count": 66,
   "id": "3bb924f9-816b-4a4a-954a-dd1e8691e51e",
   "metadata": {},
   "outputs": [],
   "source": [
    "male = df[df['Gender'] == 'M']       # finding \"Male\" Gender "
   ]
  },
  {
   "cell_type": "code",
   "execution_count": 65,
   "id": "1dd3bd2f-151a-4a81-94c7-38bbf928a193",
   "metadata": {},
   "outputs": [
    {
     "data": {
      "text/html": [
       "<div>\n",
       "<style scoped>\n",
       "    .dataframe tbody tr th:only-of-type {\n",
       "        vertical-align: middle;\n",
       "    }\n",
       "\n",
       "    .dataframe tbody tr th {\n",
       "        vertical-align: top;\n",
       "    }\n",
       "\n",
       "    .dataframe thead th {\n",
       "        text-align: right;\n",
       "    }\n",
       "</style>\n",
       "<table border=\"1\" class=\"dataframe\">\n",
       "  <thead>\n",
       "    <tr style=\"text-align: right;\">\n",
       "      <th></th>\n",
       "      <th>Name</th>\n",
       "      <th>Age</th>\n",
       "      <th>Gender</th>\n",
       "      <th>Salary</th>\n",
       "    </tr>\n",
       "  </thead>\n",
       "  <tbody>\n",
       "    <tr>\n",
       "      <th>0</th>\n",
       "      <td>John</td>\n",
       "      <td>25</td>\n",
       "      <td>M</td>\n",
       "      <td>50000</td>\n",
       "    </tr>\n",
       "    <tr>\n",
       "      <th>2</th>\n",
       "      <td>Ryan</td>\n",
       "      <td>28</td>\n",
       "      <td>M</td>\n",
       "      <td>55000</td>\n",
       "    </tr>\n",
       "    <tr>\n",
       "      <th>4</th>\n",
       "      <td>Liam</td>\n",
       "      <td>40</td>\n",
       "      <td>M</td>\n",
       "      <td>65000</td>\n",
       "    </tr>\n",
       "  </tbody>\n",
       "</table>\n",
       "</div>"
      ],
      "text/plain": [
       "   Name  Age Gender  Salary\n",
       "0  John   25      M   50000\n",
       "2  Ryan   28      M   55000\n",
       "4  Liam   40      M   65000"
      ]
     },
     "execution_count": 65,
     "metadata": {},
     "output_type": "execute_result"
    }
   ],
   "source": [
    "male"
   ]
  },
  {
   "cell_type": "code",
   "execution_count": 67,
   "id": "3f82091c-b6da-46b0-b301-5f3b29074703",
   "metadata": {},
   "outputs": [],
   "source": [
    "female = df[df['Gender'] == 'F']"
   ]
  },
  {
   "cell_type": "code",
   "execution_count": 68,
   "id": "3a567801-e2d8-4abe-90d2-9fad66124307",
   "metadata": {},
   "outputs": [
    {
     "data": {
      "text/html": [
       "<div>\n",
       "<style scoped>\n",
       "    .dataframe tbody tr th:only-of-type {\n",
       "        vertical-align: middle;\n",
       "    }\n",
       "\n",
       "    .dataframe tbody tr th {\n",
       "        vertical-align: top;\n",
       "    }\n",
       "\n",
       "    .dataframe thead th {\n",
       "        text-align: right;\n",
       "    }\n",
       "</style>\n",
       "<table border=\"1\" class=\"dataframe\">\n",
       "  <thead>\n",
       "    <tr style=\"text-align: right;\">\n",
       "      <th></th>\n",
       "      <th>Name</th>\n",
       "      <th>Age</th>\n",
       "      <th>Gender</th>\n",
       "      <th>Salary</th>\n",
       "    </tr>\n",
       "  </thead>\n",
       "  <tbody>\n",
       "    <tr>\n",
       "      <th>1</th>\n",
       "      <td>Emma</td>\n",
       "      <td>30</td>\n",
       "      <td>F</td>\n",
       "      <td>60000</td>\n",
       "    </tr>\n",
       "    <tr>\n",
       "      <th>3</th>\n",
       "      <td>Sophia</td>\n",
       "      <td>35</td>\n",
       "      <td>F</td>\n",
       "      <td>70000</td>\n",
       "    </tr>\n",
       "  </tbody>\n",
       "</table>\n",
       "</div>"
      ],
      "text/plain": [
       "     Name  Age Gender  Salary\n",
       "1    Emma   30      F   60000\n",
       "3  Sophia   35      F   70000"
      ]
     },
     "execution_count": 68,
     "metadata": {},
     "output_type": "execute_result"
    }
   ],
   "source": [
    "female"
   ]
  },
  {
   "cell_type": "code",
   "execution_count": null,
   "id": "8cd23103-e207-4c7f-b6c2-9a6debb3a00d",
   "metadata": {},
   "outputs": [],
   "source": []
  }
 ],
 "metadata": {
  "kernelspec": {
   "display_name": "Python 3 (ipykernel)",
   "language": "python",
   "name": "python3"
  },
  "language_info": {
   "codemirror_mode": {
    "name": "ipython",
    "version": 3
   },
   "file_extension": ".py",
   "mimetype": "text/x-python",
   "name": "python",
   "nbconvert_exporter": "python",
   "pygments_lexer": "ipython3",
   "version": "3.11.7"
  }
 },
 "nbformat": 4,
 "nbformat_minor": 5
}
