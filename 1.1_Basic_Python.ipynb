{
 "cells": [
  {
   "cell_type": "markdown",
   "id": "b87210cf-d61a-42f6-8f94-30009edc03df",
   "metadata": {},
   "source": [
    "# Basic Python = List, Array, Bar Chart Diagram, Numpy & Pandas Basic Codes"
   ]
  },
  {
   "cell_type": "code",
   "execution_count": 1,
   "id": "6f862b7c-a395-49c6-a4ac-144767710ab9",
   "metadata": {},
   "outputs": [],
   "source": [
    "L=list()"
   ]
  },
  {
   "cell_type": "code",
   "execution_count": 2,
   "id": "aaaa6ee3-b49b-4705-b169-7ed9a04bec80",
   "metadata": {},
   "outputs": [
    {
     "data": {
      "text/plain": [
       "list"
      ]
     },
     "execution_count": 2,
     "metadata": {},
     "output_type": "execute_result"
    }
   ],
   "source": [
    "type(L)"
   ]
  },
  {
   "cell_type": "code",
   "execution_count": 3,
   "id": "01fd60c6-5acd-4eae-b627-af462200972a",
   "metadata": {},
   "outputs": [],
   "source": [
    "L=list(range(10))"
   ]
  },
  {
   "cell_type": "code",
   "execution_count": 4,
   "id": "6de92098-255c-49f0-b8e2-a3bda65f2e33",
   "metadata": {},
   "outputs": [
    {
     "data": {
      "text/plain": [
       "[0, 1, 2, 3, 4, 5, 6, 7, 8, 9]"
      ]
     },
     "execution_count": 4,
     "metadata": {},
     "output_type": "execute_result"
    }
   ],
   "source": [
    "L"
   ]
  },
  {
   "cell_type": "code",
   "execution_count": 5,
   "id": "2bbf9fef-3b60-43c3-9a09-35c583e41509",
   "metadata": {},
   "outputs": [
    {
     "data": {
      "text/plain": [
       "10"
      ]
     },
     "execution_count": 5,
     "metadata": {},
     "output_type": "execute_result"
    }
   ],
   "source": [
    "len(L)"
   ]
  },
  {
   "cell_type": "code",
   "execution_count": 8,
   "id": "034aa9d3-164f-4c75-a077-843097d9c0f8",
   "metadata": {},
   "outputs": [
    {
     "name": "stdout",
     "output_type": "stream",
     "text": [
      "0\n",
      "1\n",
      "2\n",
      "3\n",
      "4\n",
      "5\n",
      "6\n",
      "7\n",
      "8\n",
      "9\n"
     ]
    }
   ],
   "source": [
    "for i in range(10):\n",
    "    print(i)"
   ]
  },
  {
   "cell_type": "code",
   "execution_count": 9,
   "id": "882caa65-0cf8-4019-96e5-5a8b15f3e5b0",
   "metadata": {},
   "outputs": [
    {
     "name": "stdout",
     "output_type": "stream",
     "text": [
      "0\n",
      "1\n",
      "2\n",
      "3\n",
      "4\n",
      "5\n",
      "6\n",
      "7\n",
      "8\n",
      "9\n"
     ]
    }
   ],
   "source": [
    "for i  in range(len(L)):\n",
    "    print(L[i])"
   ]
  },
  {
   "cell_type": "code",
   "execution_count": 10,
   "id": "d4eadef2-da5a-47d7-a32e-2bb5fdf0d1c8",
   "metadata": {},
   "outputs": [],
   "source": [
    "L.append(\"Apple\")"
   ]
  },
  {
   "cell_type": "code",
   "execution_count": 12,
   "id": "565b2152-61f4-4549-99e2-8f2bf1356441",
   "metadata": {},
   "outputs": [
    {
     "data": {
      "text/plain": [
       "[0, 1, 2, 3, 4, 5, 6, 7, 8, 9, 'Apple']"
      ]
     },
     "execution_count": 12,
     "metadata": {},
     "output_type": "execute_result"
    }
   ],
   "source": [
    "L"
   ]
  },
  {
   "cell_type": "code",
   "execution_count": 13,
   "id": "548dc469-629c-43ba-ad14-97a5a1e233b9",
   "metadata": {},
   "outputs": [],
   "source": [
    "L.remove(7)"
   ]
  },
  {
   "cell_type": "code",
   "execution_count": 14,
   "id": "f1f54082-a635-4499-921e-594490461d5d",
   "metadata": {},
   "outputs": [
    {
     "data": {
      "text/plain": [
       "[0, 1, 2, 3, 4, 5, 6, 8, 9, 'Apple']"
      ]
     },
     "execution_count": 14,
     "metadata": {},
     "output_type": "execute_result"
    }
   ],
   "source": [
    "L"
   ]
  },
  {
   "cell_type": "code",
   "execution_count": 17,
   "id": "c16a48ef-2d5d-4c99-91f8-6dcac78ec87a",
   "metadata": {},
   "outputs": [],
   "source": [
    "L.append(7)"
   ]
  },
  {
   "cell_type": "code",
   "execution_count": 18,
   "id": "ac0962ec-9160-4e7a-b010-280f584145ca",
   "metadata": {},
   "outputs": [
    {
     "data": {
      "text/plain": [
       "[0, 1, 2, 3, 4, 5, 6, 8, 9, 'Apple', 7, 7]"
      ]
     },
     "execution_count": 18,
     "metadata": {},
     "output_type": "execute_result"
    }
   ],
   "source": [
    "L"
   ]
  },
  {
   "cell_type": "code",
   "execution_count": 19,
   "id": "04195157-6923-4586-9446-a6eb3165f56d",
   "metadata": {},
   "outputs": [],
   "source": [
    "L.remove(7)"
   ]
  },
  {
   "cell_type": "code",
   "execution_count": 20,
   "id": "b0d8e5bb-9004-41f9-83bf-665acf9110b4",
   "metadata": {},
   "outputs": [
    {
     "data": {
      "text/plain": [
       "[0, 1, 2, 3, 4, 5, 6, 8, 9, 'Apple', 7]"
      ]
     },
     "execution_count": 20,
     "metadata": {},
     "output_type": "execute_result"
    }
   ],
   "source": [
    "L"
   ]
  },
  {
   "cell_type": "code",
   "execution_count": 22,
   "id": "78203198-8599-456f-a546-94f50a6b2955",
   "metadata": {},
   "outputs": [
    {
     "name": "stdout",
     "output_type": "stream",
     "text": [
      "0\n",
      "1\n",
      "2\n",
      "3\n",
      "4\n",
      "5\n",
      "6\n",
      "8\n",
      "9\n",
      "Apple\n",
      "7\n"
     ]
    }
   ],
   "source": [
    "for i in L:\n",
    "    print(i)"
   ]
  },
  {
   "cell_type": "code",
   "execution_count": 24,
   "id": "b0b73b13-78f9-4837-a2db-e3f94fe59a24",
   "metadata": {},
   "outputs": [
    {
     "name": "stdout",
     "output_type": "stream",
     "text": [
      "0 1 2 3 4 5 6 8 9 Apple 7 "
     ]
    }
   ],
   "source": [
    "for i in L:\n",
    "    print(i, end = ' ')"
   ]
  },
  {
   "cell_type": "code",
   "execution_count": 40,
   "id": "843516b4-6a6c-4c15-a10d-3db35b492cce",
   "metadata": {},
   "outputs": [
    {
     "data": {
      "text/plain": [
       "98"
      ]
     },
     "execution_count": 40,
     "metadata": {},
     "output_type": "execute_result"
    }
   ],
   "source": [
    "from random import randint\n",
    "x = randint(1,100)\n",
    "x"
   ]
  },
  {
   "cell_type": "code",
   "execution_count": 41,
   "id": "17422f40-16ec-4e3a-a4d2-5e7008d8f22c",
   "metadata": {},
   "outputs": [
    {
     "name": "stdout",
     "output_type": "stream",
     "text": [
      "0 1 2 3 4 5 6 7 8 9 10 11 12 13 14 15 16 17 18 19 20 21 22 23 24 25 26 27 28 29 30 31 32 33 34 35 36 37 38 39 40 41 42 43 44 45 46 47 48 49 50 51 52 53 54 55 56 57 58 59 60 61 62 63 64 65 66 67 68 69 70 71 72 73 74 75 76 77 78 79 80 81 82 83 84 85 86 87 88 89 90 91 92 93 94 95 96 97 "
     ]
    }
   ],
   "source": [
    "for i in range(x):\n",
    "               print(i, end = ' ')"
   ]
  },
  {
   "cell_type": "code",
   "execution_count": 42,
   "id": "9e140d9a-bfbc-412d-a11f-0baae0ed48c3",
   "metadata": {},
   "outputs": [
    {
     "name": "stdout",
     "output_type": "stream",
     "text": [
      "Value of x =  98\n"
     ]
    }
   ],
   "source": [
    "print(\"Value of x = \",x)"
   ]
  },
  {
   "cell_type": "code",
   "execution_count": 43,
   "id": "5a4de2a6-6a38-4d61-a9d9-c005480f4df9",
   "metadata": {},
   "outputs": [
    {
     "name": "stdout",
     "output_type": "stream",
     "text": [
      "Value of x = 98\n"
     ]
    }
   ],
   "source": [
    "print(f\"Value of x = {x}\")"
   ]
  },
  {
   "cell_type": "code",
   "execution_count": 44,
   "id": "85bfa2bd-2aa9-48fe-84bc-fb1f6a8881d4",
   "metadata": {},
   "outputs": [
    {
     "name": "stdout",
     "output_type": "stream",
     "text": [
      "The values of x: 98\n"
     ]
    }
   ],
   "source": [
    "print(\"The values of x: {0}\".format(x))"
   ]
  },
  {
   "cell_type": "code",
   "execution_count": 45,
   "id": "72e78972-776a-4185-82aa-4fa67a5ed701",
   "metadata": {},
   "outputs": [],
   "source": [
    "import numpy as np"
   ]
  },
  {
   "cell_type": "code",
   "execution_count": 46,
   "id": "0f1f19f0-c3c2-444b-8b7a-c77d6d53844c",
   "metadata": {},
   "outputs": [],
   "source": [
    "a = np.array([1,2,3,4,5,6,7,8])"
   ]
  },
  {
   "cell_type": "code",
   "execution_count": 54,
   "id": "bf209520-fd32-42d6-805e-da8a6c2d7478",
   "metadata": {},
   "outputs": [
    {
     "data": {
      "text/plain": [
       "array([1, 2, 3, 4, 5, 6, 7, 8])"
      ]
     },
     "execution_count": 54,
     "metadata": {},
     "output_type": "execute_result"
    }
   ],
   "source": [
    "a"
   ]
  },
  {
   "cell_type": "code",
   "execution_count": 55,
   "id": "497ebf37-b0a3-4acf-9fe4-cce6f8b88b68",
   "metadata": {},
   "outputs": [
    {
     "data": {
      "text/plain": [
       "dtype('int32')"
      ]
     },
     "execution_count": 55,
     "metadata": {},
     "output_type": "execute_result"
    }
   ],
   "source": [
    "a.dtype"
   ]
  },
  {
   "cell_type": "code",
   "execution_count": 48,
   "id": "4d2178d8-fe6d-4a21-b86b-6937d565be9c",
   "metadata": {},
   "outputs": [],
   "source": [
    "b = np.array([1,3,6,7.32])"
   ]
  },
  {
   "cell_type": "code",
   "execution_count": 49,
   "id": "dfcd0b80-1318-40aa-951c-fc99aa5b1ca3",
   "metadata": {},
   "outputs": [
    {
     "data": {
      "text/plain": [
       "array([1.  , 3.  , 6.  , 7.32])"
      ]
     },
     "execution_count": 49,
     "metadata": {},
     "output_type": "execute_result"
    }
   ],
   "source": [
    "b"
   ]
  },
  {
   "cell_type": "code",
   "execution_count": 50,
   "id": "e115df9b-6846-46d7-9e2d-698568d959e6",
   "metadata": {},
   "outputs": [],
   "source": [
    "c = np.array([9,4,6,7], dtype='float')"
   ]
  },
  {
   "cell_type": "code",
   "execution_count": 51,
   "id": "068d5ed4-f5ac-49b3-b596-f7a3d2b7eb46",
   "metadata": {},
   "outputs": [
    {
     "data": {
      "text/plain": [
       "array([9., 4., 6., 7.])"
      ]
     },
     "execution_count": 51,
     "metadata": {},
     "output_type": "execute_result"
    }
   ],
   "source": [
    "c"
   ]
  },
  {
   "cell_type": "code",
   "execution_count": 56,
   "id": "b16cc0eb-e8f0-48be-aa08-9b05a2bf38b0",
   "metadata": {},
   "outputs": [
    {
     "data": {
      "text/plain": [
       "dtype('float64')"
      ]
     },
     "execution_count": 56,
     "metadata": {},
     "output_type": "execute_result"
    }
   ],
   "source": [
    "c.dtype"
   ]
  },
  {
   "cell_type": "code",
   "execution_count": 53,
   "id": "63e2a7c0-ca3d-4a75-84e8-0ca75c72de7d",
   "metadata": {},
   "outputs": [
    {
     "data": {
      "text/plain": [
       "dtype('float64')"
      ]
     },
     "execution_count": 53,
     "metadata": {},
     "output_type": "execute_result"
    }
   ],
   "source": [
    "c.dtype"
   ]
  },
  {
   "cell_type": "code",
   "execution_count": 57,
   "id": "6e4e173c-d863-400d-912f-03676710d484",
   "metadata": {},
   "outputs": [
    {
     "data": {
      "text/plain": [
       "(4,)"
      ]
     },
     "execution_count": 57,
     "metadata": {},
     "output_type": "execute_result"
    }
   ],
   "source": [
    "c.shape"
   ]
  },
  {
   "cell_type": "code",
   "execution_count": 58,
   "id": "57fbc993-275d-4e2a-bdc6-309d50f683b6",
   "metadata": {},
   "outputs": [
    {
     "data": {
      "text/plain": [
       "1"
      ]
     },
     "execution_count": 58,
     "metadata": {},
     "output_type": "execute_result"
    }
   ],
   "source": [
    "c.ndim"
   ]
  },
  {
   "cell_type": "code",
   "execution_count": 59,
   "id": "54c3d90f-590a-4884-8693-37d7e8b68943",
   "metadata": {},
   "outputs": [],
   "source": [
    "aa = np.zeros(5)"
   ]
  },
  {
   "cell_type": "code",
   "execution_count": 60,
   "id": "9d20c7e0-2c56-4c2c-ba22-4534559e6f17",
   "metadata": {},
   "outputs": [
    {
     "data": {
      "text/plain": [
       "array([0., 0., 0., 0., 0.])"
      ]
     },
     "execution_count": 60,
     "metadata": {},
     "output_type": "execute_result"
    }
   ],
   "source": [
    "aa"
   ]
  },
  {
   "cell_type": "code",
   "execution_count": 62,
   "id": "c81ca28c-df27-44dc-b733-bc0666523ab0",
   "metadata": {},
   "outputs": [],
   "source": [
    "aaa = np.zeros((3,5))"
   ]
  },
  {
   "cell_type": "code",
   "execution_count": 63,
   "id": "6f5e758f-9b6c-45f4-aa90-a1bf276e18e2",
   "metadata": {},
   "outputs": [
    {
     "data": {
      "text/plain": [
       "array([[0., 0., 0., 0., 0.],\n",
       "       [0., 0., 0., 0., 0.],\n",
       "       [0., 0., 0., 0., 0.]])"
      ]
     },
     "execution_count": 63,
     "metadata": {},
     "output_type": "execute_result"
    }
   ],
   "source": [
    "aaa"
   ]
  },
  {
   "cell_type": "code",
   "execution_count": 64,
   "id": "40a557a5-f001-475f-9a17-976a9eafa1b8",
   "metadata": {},
   "outputs": [
    {
     "data": {
      "text/plain": [
       "2"
      ]
     },
     "execution_count": 64,
     "metadata": {},
     "output_type": "execute_result"
    }
   ],
   "source": [
    "aaa.ndim"
   ]
  },
  {
   "cell_type": "code",
   "execution_count": 65,
   "id": "f932efa2-ad2e-4517-aec4-838fcff519d7",
   "metadata": {},
   "outputs": [
    {
     "data": {
      "text/plain": [
       "(3, 5)"
      ]
     },
     "execution_count": 65,
     "metadata": {},
     "output_type": "execute_result"
    }
   ],
   "source": [
    "aaa.shape"
   ]
  },
  {
   "cell_type": "code",
   "execution_count": 66,
   "id": "67eead4d-eba3-4e08-acc8-46f5a2c98381",
   "metadata": {},
   "outputs": [
    {
     "data": {
      "text/plain": [
       "15"
      ]
     },
     "execution_count": 66,
     "metadata": {},
     "output_type": "execute_result"
    }
   ],
   "source": [
    "aaa.size"
   ]
  },
  {
   "cell_type": "code",
   "execution_count": 67,
   "id": "ca980c46-e6c0-4543-92bb-598f91c55b55",
   "metadata": {},
   "outputs": [],
   "source": [
    "aaa = np.zeros((3,5),dtype=\"int\")"
   ]
  },
  {
   "cell_type": "code",
   "execution_count": 68,
   "id": "9201888d-03df-4e22-94e2-5e489869d725",
   "metadata": {},
   "outputs": [
    {
     "data": {
      "text/plain": [
       "array([[0, 0, 0, 0, 0],\n",
       "       [0, 0, 0, 0, 0],\n",
       "       [0, 0, 0, 0, 0]])"
      ]
     },
     "execution_count": 68,
     "metadata": {},
     "output_type": "execute_result"
    }
   ],
   "source": [
    "aaa"
   ]
  },
  {
   "cell_type": "code",
   "execution_count": 71,
   "id": "91f11474-0243-46d7-8279-e0ca4fc7ff41",
   "metadata": {},
   "outputs": [],
   "source": [
    "bbb = np.ones((3,5),dtype=\"int\")"
   ]
  },
  {
   "cell_type": "code",
   "execution_count": 72,
   "id": "90130bfe-bf43-4ade-8c39-3431b3dab4f1",
   "metadata": {},
   "outputs": [
    {
     "data": {
      "text/plain": [
       "array([[1, 1, 1, 1, 1],\n",
       "       [1, 1, 1, 1, 1],\n",
       "       [1, 1, 1, 1, 1]])"
      ]
     },
     "execution_count": 72,
     "metadata": {},
     "output_type": "execute_result"
    }
   ],
   "source": [
    "bbb"
   ]
  },
  {
   "cell_type": "code",
   "execution_count": 73,
   "id": "ed6bfad7-4414-4f66-93aa-6779f897a7ff",
   "metadata": {},
   "outputs": [],
   "source": [
    "arr = np.arange(1,10,2)"
   ]
  },
  {
   "cell_type": "code",
   "execution_count": 74,
   "id": "e76fae16-e9c7-4172-b9e0-abc77032ad86",
   "metadata": {},
   "outputs": [
    {
     "data": {
      "text/plain": [
       "array([1, 3, 5, 7, 9])"
      ]
     },
     "execution_count": 74,
     "metadata": {},
     "output_type": "execute_result"
    }
   ],
   "source": [
    "arr"
   ]
  },
  {
   "cell_type": "code",
   "execution_count": 75,
   "id": "c08c4080-e9b3-4b7f-a46a-cd509718d04b",
   "metadata": {},
   "outputs": [],
   "source": [
    "arr = np.linspace(0,1,5)"
   ]
  },
  {
   "cell_type": "code",
   "execution_count": 76,
   "id": "7213c3ce-b694-4118-83a7-0ed0e9e3a6c3",
   "metadata": {},
   "outputs": [
    {
     "data": {
      "text/plain": [
       "array([0.  , 0.25, 0.5 , 0.75, 1.  ])"
      ]
     },
     "execution_count": 76,
     "metadata": {},
     "output_type": "execute_result"
    }
   ],
   "source": [
    "arr"
   ]
  },
  {
   "cell_type": "code",
   "execution_count": 77,
   "id": "2e1ad3d5-4cb0-4c6b-b633-2587d5b14187",
   "metadata": {},
   "outputs": [],
   "source": [
    "arr = np.linspace(2,10,8)"
   ]
  },
  {
   "cell_type": "code",
   "execution_count": 78,
   "id": "216f9e05-52ec-42aa-a9c4-ce695343d318",
   "metadata": {},
   "outputs": [
    {
     "data": {
      "text/plain": [
       "array([ 2.        ,  3.14285714,  4.28571429,  5.42857143,  6.57142857,\n",
       "        7.71428571,  8.85714286, 10.        ])"
      ]
     },
     "execution_count": 78,
     "metadata": {},
     "output_type": "execute_result"
    }
   ],
   "source": [
    "arr"
   ]
  },
  {
   "cell_type": "code",
   "execution_count": 3,
   "id": "4990ccc3-179a-48e8-a02d-77a9365fe043",
   "metadata": {},
   "outputs": [],
   "source": [
    "import numpy as np"
   ]
  },
  {
   "cell_type": "code",
   "execution_count": 6,
   "id": "6231995e-b17c-43e0-8c85-74737ecaf956",
   "metadata": {},
   "outputs": [],
   "source": [
    "x = np.random.random((3,4))"
   ]
  },
  {
   "cell_type": "code",
   "execution_count": 5,
   "id": "24fef07c-2ad9-431b-9b42-2382a807acca",
   "metadata": {},
   "outputs": [
    {
     "data": {
      "text/plain": [
       "array([[0.57929346, 0.76793626, 0.43508497, 0.88414616, 0.78552451],\n",
       "       [0.38437602, 0.28909695, 0.70643968, 0.54438361, 0.76823808],\n",
       "       [0.13402239, 0.54962699, 0.29723542, 0.07649949, 0.19109551]])"
      ]
     },
     "execution_count": 5,
     "metadata": {},
     "output_type": "execute_result"
    }
   ],
   "source": [
    "x"
   ]
  },
  {
   "cell_type": "code",
   "execution_count": 7,
   "id": "7c07546b-26f2-4b92-897b-0d6f3e7bd179",
   "metadata": {},
   "outputs": [],
   "source": [
    "xx = np.random.randint(10)"
   ]
  },
  {
   "cell_type": "code",
   "execution_count": 8,
   "id": "5506239b-0b6c-44d8-afce-b6daea30188d",
   "metadata": {},
   "outputs": [
    {
     "data": {
      "text/plain": [
       "7"
      ]
     },
     "execution_count": 8,
     "metadata": {},
     "output_type": "execute_result"
    }
   ],
   "source": [
    "xx"
   ]
  },
  {
   "cell_type": "code",
   "execution_count": 41,
   "id": "75f8c433-344e-40d6-aa2b-769f83604630",
   "metadata": {},
   "outputs": [],
   "source": [
    "xxx = np.random.randint(10, size=10)"
   ]
  },
  {
   "cell_type": "code",
   "execution_count": 42,
   "id": "5686cf78-9d13-4338-ad31-9e95d4b7e869",
   "metadata": {},
   "outputs": [
    {
     "data": {
      "text/plain": [
       "array([1, 0, 9, 4, 5, 0, 9, 4, 4, 9])"
      ]
     },
     "execution_count": 42,
     "metadata": {},
     "output_type": "execute_result"
    }
   ],
   "source": [
    "xxx"
   ]
  },
  {
   "cell_type": "code",
   "execution_count": 14,
   "id": "8c68585e-f646-46e8-95ba-cbd8144b9241",
   "metadata": {},
   "outputs": [],
   "source": [
    "# size 3 = rows & 5 = columns\n",
    "x1 = np.random.randint(10, size=(3,5))"
   ]
  },
  {
   "cell_type": "code",
   "execution_count": 12,
   "id": "b07252f8-4ef5-40f6-8829-cabf5df4acb3",
   "metadata": {},
   "outputs": [
    {
     "data": {
      "text/plain": [
       "array([[1, 6, 8, 7, 4],\n",
       "       [2, 4, 5, 6, 8],\n",
       "       [8, 3, 6, 6, 8]])"
      ]
     },
     "execution_count": 12,
     "metadata": {},
     "output_type": "execute_result"
    }
   ],
   "source": [
    "x1"
   ]
  },
  {
   "cell_type": "code",
   "execution_count": 19,
   "id": "3dec43c8-5c0f-492b-8be3-4223dcd44cf7",
   "metadata": {},
   "outputs": [],
   "source": [
    "x2 = np.ones((4,6), dtype='int')   # 4 = rows & 6 = columns"
   ]
  },
  {
   "cell_type": "code",
   "execution_count": 20,
   "id": "6fd7c1f8-b8ac-401e-90eb-2330bbfefcac",
   "metadata": {},
   "outputs": [
    {
     "data": {
      "text/plain": [
       "array([[1, 1, 1, 1, 1, 1],\n",
       "       [1, 1, 1, 1, 1, 1],\n",
       "       [1, 1, 1, 1, 1, 1],\n",
       "       [1, 1, 1, 1, 1, 1]])"
      ]
     },
     "execution_count": 20,
     "metadata": {},
     "output_type": "execute_result"
    }
   ],
   "source": [
    "x2"
   ]
  },
  {
   "cell_type": "markdown",
   "id": "c2d2317e-b649-4e72-8b5f-78957cde8bdd",
   "metadata": {},
   "source": [
    "# Bar Chart Part Started"
   ]
  },
  {
   "cell_type": "code",
   "execution_count": 21,
   "id": "4187b7dc-6d19-4765-8897-4af3e65247c3",
   "metadata": {},
   "outputs": [],
   "source": [
    "height = np.arange(150,260,4)   # 150 = started, 260 = end & 4 = increment "
   ]
  },
  {
   "cell_type": "code",
   "execution_count": 22,
   "id": "0a6c5fac-60e5-4c92-9484-1345b5cf1b31",
   "metadata": {},
   "outputs": [
    {
     "data": {
      "text/plain": [
       "array([150, 154, 158, 162, 166, 170, 174, 178, 182, 186, 190, 194, 198,\n",
       "       202, 206, 210, 214, 218, 222, 226, 230, 234, 238, 242, 246, 250,\n",
       "       254, 258])"
      ]
     },
     "execution_count": 22,
     "metadata": {},
     "output_type": "execute_result"
    }
   ],
   "source": [
    "height"
   ]
  },
  {
   "cell_type": "code",
   "execution_count": 23,
   "id": "d60a6720-1e85-4df3-84f8-a8a05bfb3668",
   "metadata": {},
   "outputs": [],
   "source": [
    "x = np.random.randint(125,200, size=60)   #  125 = start & 200 = end "
   ]
  },
  {
   "cell_type": "code",
   "execution_count": 24,
   "id": "2cd212bb-232a-47ff-99bc-26863101fb2b",
   "metadata": {},
   "outputs": [
    {
     "data": {
      "text/plain": [
       "array([185, 177, 158, 163, 132, 155, 193, 199, 162, 176, 132, 141, 151,\n",
       "       164, 140, 157, 186, 135, 127, 143, 171, 156, 139, 195, 178, 186,\n",
       "       167, 187, 176, 161, 137, 168, 156, 157, 156, 170, 141, 179, 163,\n",
       "       165, 184, 144, 179, 148, 187, 143, 163, 163, 193, 169, 134, 127,\n",
       "       163, 129, 188, 175, 161, 186, 150, 133])"
      ]
     },
     "execution_count": 24,
     "metadata": {},
     "output_type": "execute_result"
    }
   ],
   "source": [
    "x"
   ]
  },
  {
   "cell_type": "code",
   "execution_count": 25,
   "id": "e21ee87e-3f99-44bb-a9c4-0e8eef98d836",
   "metadata": {},
   "outputs": [
    {
     "data": {
      "text/plain": [
       "127"
      ]
     },
     "execution_count": 25,
     "metadata": {},
     "output_type": "execute_result"
    }
   ],
   "source": [
    "x.min()"
   ]
  },
  {
   "cell_type": "code",
   "execution_count": 26,
   "id": "16b5f418-1cf1-4c60-a4e2-6cfde1929520",
   "metadata": {},
   "outputs": [
    {
     "data": {
      "text/plain": [
       "199"
      ]
     },
     "execution_count": 26,
     "metadata": {},
     "output_type": "execute_result"
    }
   ],
   "source": [
    "x.max()"
   ]
  },
  {
   "cell_type": "code",
   "execution_count": 27,
   "id": "005f0422-aad8-4b7f-8906-5ad89b001f7b",
   "metadata": {},
   "outputs": [
    {
     "data": {
      "text/plain": [
       "143.75"
      ]
     },
     "execution_count": 27,
     "metadata": {},
     "output_type": "execute_result"
    }
   ],
   "source": [
    "np.percentile(x,25)"
   ]
  },
  {
   "cell_type": "code",
   "execution_count": 28,
   "id": "74425a8f-89fe-4c0a-a3fe-1b74ff00266e",
   "metadata": {},
   "outputs": [],
   "source": [
    "x = np.percentile(x,25)"
   ]
  },
  {
   "cell_type": "code",
   "execution_count": 29,
   "id": "9f96d43b-0222-49b0-a74b-887dcc6df728",
   "metadata": {},
   "outputs": [
    {
     "data": {
      "text/plain": [
       "143.75"
      ]
     },
     "execution_count": 29,
     "metadata": {},
     "output_type": "execute_result"
    }
   ],
   "source": [
    "x"
   ]
  },
  {
   "cell_type": "code",
   "execution_count": 35,
   "id": "9f45812b-4699-4628-88e8-6efa8e9b76b9",
   "metadata": {},
   "outputs": [],
   "source": [
    "x = np.percentile(x,50)"
   ]
  },
  {
   "cell_type": "code",
   "execution_count": 37,
   "id": "929023f8-ee6e-4b81-b6fd-8db85d30dbb4",
   "metadata": {},
   "outputs": [
    {
     "data": {
      "text/plain": [
       "143.75"
      ]
     },
     "execution_count": 37,
     "metadata": {},
     "output_type": "execute_result"
    }
   ],
   "source": [
    "x"
   ]
  },
  {
   "cell_type": "code",
   "execution_count": 32,
   "id": "c2a8ca0d-3bc1-4852-8777-c1d13a586cd6",
   "metadata": {},
   "outputs": [],
   "source": [
    "x = np.percentile(x,75)"
   ]
  },
  {
   "cell_type": "code",
   "execution_count": 33,
   "id": "33e4e334-373a-4a8c-82ff-6c15d58411b2",
   "metadata": {},
   "outputs": [
    {
     "data": {
      "text/plain": [
       "143.75"
      ]
     },
     "execution_count": 33,
     "metadata": {},
     "output_type": "execute_result"
    }
   ],
   "source": [
    "x"
   ]
  },
  {
   "cell_type": "code",
   "execution_count": 34,
   "id": "ed21a193-7dce-4d93-aad8-32797a26e5d7",
   "metadata": {},
   "outputs": [
    {
     "data": {
      "text/plain": [
       "143.75"
      ]
     },
     "execution_count": 34,
     "metadata": {},
     "output_type": "execute_result"
    }
   ],
   "source": [
    "np.percentile(x,50)"
   ]
  },
  {
   "cell_type": "code",
   "execution_count": 38,
   "id": "c2baae2e-8484-40fc-be77-2e190f99c74d",
   "metadata": {},
   "outputs": [
    {
     "data": {
      "text/plain": [
       "0.0"
      ]
     },
     "execution_count": 38,
     "metadata": {},
     "output_type": "execute_result"
    }
   ],
   "source": [
    "x.std()"
   ]
  },
  {
   "cell_type": "code",
   "execution_count": 43,
   "id": "083ae3f5-164c-4cf6-adb1-2eb0f2e046bf",
   "metadata": {},
   "outputs": [],
   "source": [
    "x2 = np.percentile(xxx,25)"
   ]
  },
  {
   "cell_type": "code",
   "execution_count": 44,
   "id": "22e8563a-5c2a-4e19-85eb-640ee56c6076",
   "metadata": {},
   "outputs": [
    {
     "data": {
      "text/plain": [
       "1.75"
      ]
     },
     "execution_count": 44,
     "metadata": {},
     "output_type": "execute_result"
    }
   ],
   "source": [
    "x2"
   ]
  },
  {
   "cell_type": "code",
   "execution_count": 45,
   "id": "74b0a710-65d1-454c-b358-aa90603b873e",
   "metadata": {},
   "outputs": [],
   "source": [
    "x2 = np.percentile(xxx,50)"
   ]
  },
  {
   "cell_type": "code",
   "execution_count": 46,
   "id": "bb9b0f6a-038f-428a-914e-da1a373ceba8",
   "metadata": {},
   "outputs": [
    {
     "data": {
      "text/plain": [
       "4.0"
      ]
     },
     "execution_count": 46,
     "metadata": {},
     "output_type": "execute_result"
    }
   ],
   "source": [
    "x2"
   ]
  },
  {
   "cell_type": "code",
   "execution_count": 52,
   "id": "9f17cccc-5500-4cf2-a3d7-44ca5d91c1de",
   "metadata": {},
   "outputs": [],
   "source": [
    "x = np.random.randint(125,200, size=60)  "
   ]
  },
  {
   "cell_type": "code",
   "execution_count": 53,
   "id": "07b0f370-a6bb-43b0-8eeb-c33bd9481c08",
   "metadata": {},
   "outputs": [
    {
     "data": {
      "text/plain": [
       "array([189, 129, 187, 138, 185, 153, 129, 175, 131, 138, 135, 153, 131,\n",
       "       156, 188, 151, 128, 142, 146, 174, 168, 181, 152, 192, 130, 129,\n",
       "       156, 185, 191, 185, 169, 175, 128, 137, 179, 175, 196, 179, 168,\n",
       "       151, 164, 132, 133, 197, 195, 178, 161, 190, 129, 158, 184, 191,\n",
       "       193, 131, 137, 126, 129, 142, 146, 191])"
      ]
     },
     "execution_count": 53,
     "metadata": {},
     "output_type": "execute_result"
    }
   ],
   "source": [
    "x"
   ]
  },
  {
   "cell_type": "code",
   "execution_count": 49,
   "id": "1d3a3d18-a79d-45bf-965f-4721dd316a03",
   "metadata": {},
   "outputs": [],
   "source": [
    "%matplotlib inline\n",
    "import matplotlib.pyplot as plt"
   ]
  },
  {
   "cell_type": "code",
   "execution_count": 63,
   "id": "dc405512-8b4a-4c1e-9d55-ceec08206722",
   "metadata": {},
   "outputs": [
    {
     "data": {
      "image/png": "[encoded data removed]",
      "text/plain": [
       "<Figure size 640x480 with 1 Axes>"
      ]
     },
     "metadata": {},
     "output_type": "display_data"
    }
   ],
   "source": [
    "plt.hist(x)       # hist = Histogram\n",
    "#plt.plot()\n",
    "plt.xlabel(\"Height\")\n",
    "plt.ylabel(\"Number\")\n",
    "plt.title(\"Bar Diagram\")\n",
    "plt.show()\n"
   ]
  },
  {
   "cell_type": "markdown",
   "id": "b403660b-3710-4895-9465-8c0b8a44a897",
   "metadata": {},
   "source": [
    "# Pandas practice >>> Series & Data Frame"
   ]
  },
  {
   "cell_type": "code",
   "execution_count": 64,
   "id": "6b723cd0-bdc9-45a9-beac-6a18048c1acb",
   "metadata": {},
   "outputs": [],
   "source": [
    "a = np.arange(10,20,2)"
   ]
  },
  {
   "cell_type": "code",
   "execution_count": 65,
   "id": "e27e27b2-2530-410f-8c2b-8724c98ae1f4",
   "metadata": {},
   "outputs": [
    {
     "data": {
      "text/plain": [
       "array([10, 12, 14, 16, 18])"
      ]
     },
     "execution_count": 65,
     "metadata": {},
     "output_type": "execute_result"
    }
   ],
   "source": [
    "a"
   ]
  },
  {
   "cell_type": "code",
   "execution_count": 66,
   "id": "508e82b6-7ddf-4270-a743-e7427f9ef9a4",
   "metadata": {},
   "outputs": [],
   "source": [
    "import pandas as pd"
   ]
  },
  {
   "cell_type": "code",
   "execution_count": 68,
   "id": "29c75786-e54a-4353-a0c6-ee392f44d83a",
   "metadata": {},
   "outputs": [],
   "source": [
    "# Series\n",
    "a = pd.Series([0,1,2,4])"
   ]
  },
  {
   "cell_type": "code",
   "execution_count": 69,
   "id": "dc9fb2ca-71cc-4148-aa1d-14f39ee81c1b",
   "metadata": {},
   "outputs": [
    {
     "data": {
      "text/plain": [
       "0    0\n",
       "1    1\n",
       "2    2\n",
       "3    4\n",
       "dtype: int64"
      ]
     },
     "execution_count": 69,
     "metadata": {},
     "output_type": "execute_result"
    }
   ],
   "source": [
    "a"
   ]
  },
  {
   "cell_type": "code",
   "execution_count": 71,
   "id": "d0836b7c-6418-40ba-8a50-e262c4e86d04",
   "metadata": {},
   "outputs": [
    {
     "data": {
      "text/plain": [
       "array([0, 1, 2, 4], dtype=int64)"
      ]
     },
     "execution_count": 71,
     "metadata": {},
     "output_type": "execute_result"
    }
   ],
   "source": [
    "a.values"
   ]
  },
  {
   "cell_type": "code",
   "execution_count": 72,
   "id": "4840cf39-0693-438a-adf2-497bdd58097b",
   "metadata": {},
   "outputs": [
    {
     "data": {
      "text/plain": [
       "RangeIndex(start=0, stop=4, step=1)"
      ]
     },
     "execution_count": 72,
     "metadata": {},
     "output_type": "execute_result"
    }
   ],
   "source": [
    "a.index"
   ]
  },
  {
   "cell_type": "code",
   "execution_count": 73,
   "id": "40ebe291-b2b4-4ea6-ae67-a2ed17f24944",
   "metadata": {},
   "outputs": [
    {
     "data": {
      "text/plain": [
       "4"
      ]
     },
     "execution_count": 73,
     "metadata": {},
     "output_type": "execute_result"
    }
   ],
   "source": [
    "a[3]"
   ]
  },
  {
   "cell_type": "code",
   "execution_count": 74,
   "id": "f48f29f1-8b98-4690-a7be-61a8fa5a4b49",
   "metadata": {},
   "outputs": [
    {
     "data": {
      "text/plain": [
       "1    1\n",
       "2    2\n",
       "dtype: int64"
      ]
     },
     "execution_count": 74,
     "metadata": {},
     "output_type": "execute_result"
    }
   ],
   "source": [
    "a[1:3]"
   ]
  },
  {
   "cell_type": "markdown",
   "id": "10ee7004-f88d-49fc-8ec5-e4c5844b18e5",
   "metadata": {},
   "source": [
    "# Numpy & Pandas \n"
   ]
  },
  {
   "cell_type": "code",
   "execution_count": 3,
   "id": "6bb25bce-142d-4f55-ab4e-6e844d9f901c",
   "metadata": {},
   "outputs": [
    {
     "name": "stdout",
     "output_type": "stream",
     "text": [
      "[[1 2 3]\n",
      " [4 5 6]]\n",
      "Mean: 3.5\n",
      "Standard Deviation: 1.707825127659933\n"
     ]
    }
   ],
   "source": [
    "# Numpy Uses\n",
    "import numpy as np\n",
    "\n",
    "# Create a 2D array\n",
    "array = np.array([[1, 2, 3], [4, 5, 6]])\n",
    "print(array)\n",
    "\n",
    "# Perform basic operations\n",
    "print(\"Mean:\", np.mean(array))\n",
    "print(\"Standard Deviation:\", np.std(array))\n"
   ]
  },
  {
   "cell_type": "code",
   "execution_count": 77,
   "id": "5b395bb0-7073-49b7-a751-3dcf16cfb661",
   "metadata": {},
   "outputs": [
    {
     "name": "stdout",
     "output_type": "stream",
     "text": [
      "      Name  Age           City\n",
      "0    Alice   24       New York\n",
      "1      Bob   27  San Francisco\n",
      "2  Charlie   22    Los Angeles\n",
      "Ages: 0    24\n",
      "1    27\n",
      "2    22\n",
      "Name: Age, dtype: int64\n",
      "Mean Age: 24.333333333333332\n"
     ]
    }
   ],
   "source": [
    "# Create Pandas \n",
    "import pandas as pd\n",
    "\n",
    "# Create a DataFrame\n",
    "data = {'Name': ['Alice', 'Bob', 'Charlie'], 'Age': [24, 27, 22], 'City': ['New York', 'San Francisco', 'Los Angeles']}\n",
    "df = pd.DataFrame(data)\n",
    "print(df)\n",
    "\n",
    "# Select a column\n",
    "print(\"Ages:\", df['Age'])\n",
    "\n",
    "# Calculate summary statistics\n",
    "print(\"Mean Age:\", df['Age'].mean())\n"
   ]
  },
  {
   "cell_type": "code",
   "execution_count": 78,
   "id": "b1dbb6cd-ace1-40c7-ad56-d4e9fb6c532d",
   "metadata": {},
   "outputs": [
    {
     "name": "stdout",
     "output_type": "stream",
     "text": [
      "          A    B\n",
      "0  1.000000  5.0\n",
      "1  2.000000  NaN\n",
      "2  2.333333  7.0\n",
      "3  4.000000  8.0\n",
      "          A         B\n",
      "0  1.000000  1.609438\n",
      "1  2.000000       NaN\n",
      "2  2.333333  1.945910\n",
      "3  4.000000  2.079442\n"
     ]
    }
   ],
   "source": [
    "# Numpy & Pandas Together\n",
    "\n",
    "import numpy as np\n",
    "import pandas as pd\n",
    "\n",
    "# Create a DataFrame\n",
    "data = {'A': [1, 2, np.nan, 4], 'B': [5, np.nan, 7, 8]}\n",
    "df = pd.DataFrame(data)\n",
    "\n",
    "# Fill missing values with the mean of the column\n",
    "df['A'].fillna(df['A'].mean(), inplace=True)\n",
    "print(df)\n",
    "\n",
    "# Apply a NumPy function to a column\n",
    "df['B'] = np.log(df['B'])\n",
    "print(df)\n"
   ]
  },
  {
   "cell_type": "code",
   "execution_count": 14,
   "id": "751fab77-b048-4648-a712-90d405ee477a",
   "metadata": {},
   "outputs": [
    {
     "name": "stdout",
     "output_type": "stream",
     "text": [
      "Array = \n",
      " [[1 2 3]\n",
      " [4 5 6]]\n",
      "Mean =  3.5\n",
      "Standard Deviation =  1.707825127659933\n"
     ]
    }
   ],
   "source": [
    "# Numpy Uses\n",
    "import numpy as np\n",
    "\n",
    "# Create 2D Array\n",
    "arr = np.array([\n",
    "    [1,2,3],\n",
    "    [4,5,6]\n",
    "])\n",
    "print(\"Array = \\n\",arr)\n",
    "print(\"Mean = \",np.mean(arr))\n",
    "print(\"Standard Deviation = \",np.std(arr))"
   ]
  },
  {
   "cell_type": "code",
   "execution_count": 31,
   "id": "53ee5997-0863-424a-86e4-7feb0523fb34",
   "metadata": {},
   "outputs": [
    {
     "name": "stdout",
     "output_type": "stream",
     "text": [
      "      Name  Age        city\n",
      "0   Shehad   24     Rangpur\n",
      "1  Shadhin   24  Narshingdi\n",
      "2   Raihan   25    Noakhali\n",
      "\n",
      "Ages = \n",
      " 0    24\n",
      "1    24\n",
      "2    25\n",
      "Name: Age, dtype: int64\n",
      "\n",
      "Mean =  24.333333333333332\n"
     ]
    }
   ],
   "source": [
    "# Ceate Pandas\n",
    "data = {\n",
    "    'Name': ['Shehad','Shadhin','Raihan'],\n",
    "    'Age': [24,24,25],\n",
    "    'city': ['Rangpur','Narshingdi','Noakhali']\n",
    "}\n",
    "df = pd.DataFrame(data)\n",
    "print(df)\n",
    "# df\n",
    "\n",
    "print(\"\\nAges = \\n\",df['Age'])\n",
    "print(\"\\nMean = \",np.mean(df['Age']))"
   ]
  },
  {
   "cell_type": "code",
   "execution_count": 37,
   "id": "1d854c97-9471-41fe-8a49-a143ff290a2d",
   "metadata": {},
   "outputs": [
    {
     "name": "stdout",
     "output_type": "stream",
     "text": [
      "     A    B\n",
      "0  1.0  4.0\n",
      "1  2.0  NaN\n",
      "2  NaN  6.0\n",
      "3  4.0  7.0\n",
      "          A    B\n",
      "0  1.000000  4.0\n",
      "1  2.000000  NaN\n",
      "2  2.333333  6.0\n",
      "3  4.000000  7.0\n",
      "          A         B\n",
      "0  1.000000  1.386294\n",
      "1  2.000000       NaN\n",
      "2  2.333333  1.791759\n",
      "3  4.000000  1.945910\n"
     ]
    }
   ],
   "source": [
    "# Numpy & Pandas together\n",
    "\n",
    "import numpy as np\n",
    "import pandas as pd\n",
    "\n",
    "data = {\n",
    "    'A': [1,2,np.nan,4],\n",
    "    'B': [4,np.nan,6,7]\n",
    "}\n",
    "# Create DataFrame\n",
    "df = pd.DataFrame(data)\n",
    "print(df)\n",
    "\n",
    "# Filling Missing Values(NaN Values) with mean\n",
    "df['A'].fillna(np.mean(df['A']), inplace=True)\n",
    "print(df)\n",
    "\n",
    "# Apply Numpy for Column\n",
    "df['B'] = np.log(df['B'])\n",
    "print(df)"
   ]
  },
  {
   "cell_type": "code",
   "execution_count": null,
   "id": "02c30d79-64c9-418a-ac04-98b00987e1a5",
   "metadata": {},
   "outputs": [],
   "source": []
  }
 ],
 "metadata": {
  "kernelspec": {
   "display_name": "Python 3 (ipykernel)",
   "language": "python",
   "name": "python3"
  },
  "language_info": {
   "codemirror_mode": {
    "name": "ipython",
    "version": 3
   },
   "file_extension": ".py",
   "mimetype": "text/x-python",
   "name": "python",
   "nbconvert_exporter": "python",
   "pygments_lexer": "ipython3",
   "version": "3.11.7"
  }
 },
 "nbformat": 4,
 "nbformat_minor": 5
}
